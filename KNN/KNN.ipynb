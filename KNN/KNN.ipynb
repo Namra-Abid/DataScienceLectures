{
 "cells": [
  {
   "cell_type": "markdown",
   "id": "3dd43dbd-2bbb-42d5-adf5-43263c41e9bf",
   "metadata": {},
   "source": [
    "## We will classify fruits based on:\n",
    "\n",
    "- Weight (grams) - Heavier fruits might be oranges, lighter ones might be apples.\n",
    "- Color Intensity (1-100 scale) - Apples tend to have a deep red color, oranges have a lighter orange shade.\n",
    "- Roundness (1-100 scale) - Apples are usually more round than oranges."
   ]
  },
  {
   "cell_type": "markdown",
   "id": "0eeca3a2-2ce9-4974-b8c6-51ea8d95b45e",
   "metadata": {},
   "source": [
    "### The target variable (y) will be:\n",
    "\n",
    "- 0 = Apple\n",
    "- 1 = Orange\n"
   ]
  },
  {
   "cell_type": "markdown",
   "id": "4b5436f0-394a-4da1-bc0d-0afa5e898f2d",
   "metadata": {},
   "source": [
    "K-Nearest Neighbors (KNN) follows a very simple training process because it does not actually \"train\" a model in the traditional sense. Instead, it just stores all the training data and waits for a prediction request.\n",
    "\n",
    "Now, let’s go step by step through the training phase and explain how KNN handles multiple features.\n",
    "\n"
   ]
  },
  {
   "cell_type": "markdown",
   "id": "de1dc0ff-1782-4f06-a5d5-1246356446c9",
   "metadata": {},
   "source": [
    "\n",
    "###  Training Scenario\n",
    "#### We have a dataset where we are classifying fruits as either Apples (0) or Oranges (1) based on the following features:\n",
    "\n",
    "##### Feature Name\t|   What It Represents\n",
    "- Weight (grams)\t|How heavy the fruit is\n",
    "- Color Intensity (scale 1-100) |\tHow dark the color is\n",
    "- Roundness (scale 1-100)\t|How round the fruit is"
   ]
  },
  {
   "cell_type": "code",
   "execution_count": 2,
   "id": "b447117d-d1ef-4f12-b0b5-16239b10fb0e",
   "metadata": {},
   "outputs": [],
   "source": [
    "# Step 1: Import necessary libraries\n",
    "import numpy as np\n",
    "import pandas as pd\n",
    "from sklearn.model_selection import train_test_split\n",
    "from sklearn.neighbors import KNeighborsClassifier\n",
    "from sklearn.metrics import accuracy_score\n"
   ]
  },
  {
   "cell_type": "code",
   "execution_count": 40,
   "id": "5165e7d6-2841-4b7f-9411-ffcb762695be",
   "metadata": {},
   "outputs": [],
   "source": [
    "# # Creating 100 random fruit samples\n",
    "# data = pd.DataFrame({\n",
    "#     'Weight': np.random.randint(120, 250, 100),   # Weight in grams (120g - 250g)\n",
    "#     'Color_Intensity': np.random.randint(20, 100, 100),  # Color shade scale (1-100)\n",
    "#     'Roundness': np.random.randint(50, 100, 100), # Roundness scale (1-100)\n",
    "#     'Fruit_Type': np.random.choice([0, 1], 100)  # 0 = Apple, 1 = Orange\n",
    "# })\n",
    "\n",
    "# # Display the first few rows of the dataset\n",
    "# print(\"Sample Dataset:\")\n",
    "# print(data.head())"
   ]
  },
  {
   "cell_type": "code",
   "execution_count": 51,
   "id": "13d9daa0-664c-46b4-a22c-c3ea5f680cdd",
   "metadata": {},
   "outputs": [
    {
     "name": "stdout",
     "output_type": "stream",
     "text": [
      "Sample Dataset MIX:\n"
     ]
    },
    {
     "data": {
      "text/html": [
       "<div>\n",
       "<style scoped>\n",
       "    .dataframe tbody tr th:only-of-type {\n",
       "        vertical-align: middle;\n",
       "    }\n",
       "\n",
       "    .dataframe tbody tr th {\n",
       "        vertical-align: top;\n",
       "    }\n",
       "\n",
       "    .dataframe thead th {\n",
       "        text-align: right;\n",
       "    }\n",
       "</style>\n",
       "<table border=\"1\" class=\"dataframe\">\n",
       "  <thead>\n",
       "    <tr style=\"text-align: right;\">\n",
       "      <th></th>\n",
       "      <th>Weight</th>\n",
       "      <th>Color_Intensity</th>\n",
       "      <th>Roundness</th>\n",
       "      <th>Fruit_Type</th>\n",
       "    </tr>\n",
       "  </thead>\n",
       "  <tbody>\n",
       "    <tr>\n",
       "      <th>0</th>\n",
       "      <td>124</td>\n",
       "      <td>72</td>\n",
       "      <td>58</td>\n",
       "      <td>1</td>\n",
       "    </tr>\n",
       "    <tr>\n",
       "      <th>1</th>\n",
       "      <td>108</td>\n",
       "      <td>94</td>\n",
       "      <td>36</td>\n",
       "      <td>0</td>\n",
       "    </tr>\n",
       "    <tr>\n",
       "      <th>2</th>\n",
       "      <td>137</td>\n",
       "      <td>41</td>\n",
       "      <td>34</td>\n",
       "      <td>0</td>\n",
       "    </tr>\n",
       "    <tr>\n",
       "      <th>3</th>\n",
       "      <td>105</td>\n",
       "      <td>96</td>\n",
       "      <td>51</td>\n",
       "      <td>0</td>\n",
       "    </tr>\n",
       "    <tr>\n",
       "      <th>4</th>\n",
       "      <td>92</td>\n",
       "      <td>42</td>\n",
       "      <td>58</td>\n",
       "      <td>1</td>\n",
       "    </tr>\n",
       "  </tbody>\n",
       "</table>\n",
       "</div>"
      ],
      "text/plain": [
       "   Weight  Color_Intensity  Roundness  Fruit_Type\n",
       "0     124               72         58           1\n",
       "1     108               94         36           0\n",
       "2     137               41         34           0\n",
       "3     105               96         51           0\n",
       "4      92               42         58           1"
      ]
     },
     "execution_count": 51,
     "metadata": {},
     "output_type": "execute_result"
    }
   ],
   "source": [
    "\n",
    "# Creating 100 random fruit samples\n",
    "mix_data = pd.DataFrame({\n",
    "    'Weight': np.random.randint(90, 150, 100),   # Weight in grams (100g - 150g)\n",
    "    'Color_Intensity': np.random.randint(10, 100, 100),  # Color shade scale (1-100)\n",
    "    'Roundness': np.random.randint(30, 60, 100), # Roundness scale (1-100)\n",
    "    'Fruit_Type': np.random.choice([0,1], 100)  # 0 = Apple, 1 = Orange\n",
    "})\n",
    "\n",
    "# Display the first few rows of the dataset\n",
    "print(\"Sample Dataset MIX:\")\n",
    "(mix_data.head())"
   ]
  },
  {
   "cell_type": "code",
   "execution_count": 54,
   "id": "d3eab675-d2b0-4563-8da1-2dbb5aa37e05",
   "metadata": {},
   "outputs": [
    {
     "name": "stdout",
     "output_type": "stream",
     "text": [
      "Sample Dataset APPLE:\n"
     ]
    }
   ],
   "source": [
    "\n",
    "# Step 2: Generate a random dataset (APPLES)\n",
    "np.random.seed(42)  # Ensures the same random numbers each time for reproducibility\n",
    "\n",
    "# Creating 100 random fruit samples\n",
    "data_apple = pd.DataFrame({\n",
    "    'Weight': np.random.randint(100, 150, 100),   # Weight in grams (100g - 150g)\n",
    "    'Color_Intensity': np.random.randint(10, 60, 100),  # Color shade scale (1-100)\n",
    "    'Roundness': np.random.randint(30, 50, 100), # Roundness scale (1-100)\n",
    "    'Fruit_Type': np.random.choice([0], 100)  # 0 = Apple, 1 = Orange\n",
    "})\n",
    "\n",
    "# Display the first few rows of the dataset\n",
    "print(\"Sample Dataset APPLE:\")\n",
    "\n"
   ]
  },
  {
   "cell_type": "code",
   "execution_count": 47,
   "id": "348c2cca-4c1b-48cb-81f3-86bc6e1d3925",
   "metadata": {},
   "outputs": [
    {
     "name": "stdout",
     "output_type": "stream",
     "text": [
      "Sample Dataset ORANGE:\n"
     ]
    },
    {
     "data": {
      "text/html": [
       "<div>\n",
       "<style scoped>\n",
       "    .dataframe tbody tr th:only-of-type {\n",
       "        vertical-align: middle;\n",
       "    }\n",
       "\n",
       "    .dataframe tbody tr th {\n",
       "        vertical-align: top;\n",
       "    }\n",
       "\n",
       "    .dataframe thead th {\n",
       "        text-align: right;\n",
       "    }\n",
       "</style>\n",
       "<table border=\"1\" class=\"dataframe\">\n",
       "  <thead>\n",
       "    <tr style=\"text-align: right;\">\n",
       "      <th></th>\n",
       "      <th>Weight</th>\n",
       "      <th>Color_Intensity</th>\n",
       "      <th>Roundness</th>\n",
       "      <th>Fruit_Type</th>\n",
       "    </tr>\n",
       "  </thead>\n",
       "  <tbody>\n",
       "    <tr>\n",
       "      <th>0</th>\n",
       "      <td>96</td>\n",
       "      <td>59</td>\n",
       "      <td>53</td>\n",
       "      <td>1</td>\n",
       "    </tr>\n",
       "    <tr>\n",
       "      <th>1</th>\n",
       "      <td>109</td>\n",
       "      <td>85</td>\n",
       "      <td>59</td>\n",
       "      <td>1</td>\n",
       "    </tr>\n",
       "    <tr>\n",
       "      <th>2</th>\n",
       "      <td>118</td>\n",
       "      <td>63</td>\n",
       "      <td>56</td>\n",
       "      <td>1</td>\n",
       "    </tr>\n",
       "    <tr>\n",
       "      <th>3</th>\n",
       "      <td>104</td>\n",
       "      <td>80</td>\n",
       "      <td>58</td>\n",
       "      <td>1</td>\n",
       "    </tr>\n",
       "    <tr>\n",
       "      <th>4</th>\n",
       "      <td>100</td>\n",
       "      <td>97</td>\n",
       "      <td>56</td>\n",
       "      <td>1</td>\n",
       "    </tr>\n",
       "  </tbody>\n",
       "</table>\n",
       "</div>"
      ],
      "text/plain": [
       "   Weight  Color_Intensity  Roundness  Fruit_Type\n",
       "0      96               59         53           1\n",
       "1     109               85         59           1\n",
       "2     118               63         56           1\n",
       "3     104               80         58           1\n",
       "4     100               97         56           1"
      ]
     },
     "execution_count": 47,
     "metadata": {},
     "output_type": "execute_result"
    }
   ],
   "source": [
    "# Step 2.1: Generate a random dataset (ORANGE)\n",
    "\n",
    "np.random.seed(42)  # Ensures the same random numbers each time for reproducibility\n",
    "\n",
    "data_oranges = pd.DataFrame({\n",
    "    'Weight': np.random.randint(90, 120, 100),   # Weight in grams (90g - 120g)\n",
    "    'Color_Intensity': np.random.randint(50, 100, 100),  # Color shade scale (1-100)\n",
    "    'Roundness': np.random.randint(50, 60, 100), # Roundness scale (1-100)\n",
    "    'Fruit_Type': np.random.choice([1], 100)  # 0 = Apple, 1 = Orange\n",
    "})\n",
    "\n",
    "# Display the first few rows of the dataset\n",
    "print(\"Sample Dataset ORANGE:\")\n",
    "(data_oranges.head())\n",
    "\n"
   ]
  },
  {
   "cell_type": "code",
   "execution_count": 49,
   "id": "0ccadc2c-75b7-42a1-8424-6515bbc40abb",
   "metadata": {},
   "outputs": [
    {
     "data": {
      "text/html": [
       "<div>\n",
       "<style scoped>\n",
       "    .dataframe tbody tr th:only-of-type {\n",
       "        vertical-align: middle;\n",
       "    }\n",
       "\n",
       "    .dataframe tbody tr th {\n",
       "        vertical-align: top;\n",
       "    }\n",
       "\n",
       "    .dataframe thead th {\n",
       "        text-align: right;\n",
       "    }\n",
       "</style>\n",
       "<table border=\"1\" class=\"dataframe\">\n",
       "  <thead>\n",
       "    <tr style=\"text-align: right;\">\n",
       "      <th></th>\n",
       "      <th>Weight</th>\n",
       "      <th>Color_Intensity</th>\n",
       "      <th>Roundness</th>\n",
       "      <th>Fruit_Type</th>\n",
       "    </tr>\n",
       "  </thead>\n",
       "  <tbody>\n",
       "    <tr>\n",
       "      <th>0</th>\n",
       "      <td>138</td>\n",
       "      <td>18</td>\n",
       "      <td>44</td>\n",
       "      <td>0</td>\n",
       "    </tr>\n",
       "    <tr>\n",
       "      <th>1</th>\n",
       "      <td>128</td>\n",
       "      <td>33</td>\n",
       "      <td>38</td>\n",
       "      <td>0</td>\n",
       "    </tr>\n",
       "    <tr>\n",
       "      <th>2</th>\n",
       "      <td>114</td>\n",
       "      <td>10</td>\n",
       "      <td>49</td>\n",
       "      <td>0</td>\n",
       "    </tr>\n",
       "    <tr>\n",
       "      <th>3</th>\n",
       "      <td>142</td>\n",
       "      <td>53</td>\n",
       "      <td>46</td>\n",
       "      <td>0</td>\n",
       "    </tr>\n",
       "    <tr>\n",
       "      <th>4</th>\n",
       "      <td>107</td>\n",
       "      <td>17</td>\n",
       "      <td>46</td>\n",
       "      <td>0</td>\n",
       "    </tr>\n",
       "  </tbody>\n",
       "</table>\n",
       "</div>"
      ],
      "text/plain": [
       "   Weight  Color_Intensity  Roundness  Fruit_Type\n",
       "0     138               18         44           0\n",
       "1     128               33         38           0\n",
       "2     114               10         49           0\n",
       "3     142               53         46           0\n",
       "4     107               17         46           0"
      ]
     },
     "execution_count": 49,
     "metadata": {},
     "output_type": "execute_result"
    }
   ],
   "source": [
    "data = pd.concat([data_apple, data_oranges], ignore_index=True, sort=False)\n",
    "\n",
    "data.head()"
   ]
  },
  {
   "cell_type": "code",
   "execution_count": 50,
   "id": "2f2fb601-3027-4f97-ac27-6708a66ee5d8",
   "metadata": {},
   "outputs": [
    {
     "data": {
      "text/html": [
       "<div>\n",
       "<style scoped>\n",
       "    .dataframe tbody tr th:only-of-type {\n",
       "        vertical-align: middle;\n",
       "    }\n",
       "\n",
       "    .dataframe tbody tr th {\n",
       "        vertical-align: top;\n",
       "    }\n",
       "\n",
       "    .dataframe thead th {\n",
       "        text-align: right;\n",
       "    }\n",
       "</style>\n",
       "<table border=\"1\" class=\"dataframe\">\n",
       "  <thead>\n",
       "    <tr style=\"text-align: right;\">\n",
       "      <th></th>\n",
       "      <th>Weight</th>\n",
       "      <th>Color_Intensity</th>\n",
       "      <th>Roundness</th>\n",
       "      <th>Fruit_Type</th>\n",
       "    </tr>\n",
       "  </thead>\n",
       "  <tbody>\n",
       "    <tr>\n",
       "      <th>195</th>\n",
       "      <td>118</td>\n",
       "      <td>77</td>\n",
       "      <td>54</td>\n",
       "      <td>1</td>\n",
       "    </tr>\n",
       "    <tr>\n",
       "      <th>196</th>\n",
       "      <td>107</td>\n",
       "      <td>51</td>\n",
       "      <td>54</td>\n",
       "      <td>1</td>\n",
       "    </tr>\n",
       "    <tr>\n",
       "      <th>197</th>\n",
       "      <td>115</td>\n",
       "      <td>91</td>\n",
       "      <td>56</td>\n",
       "      <td>1</td>\n",
       "    </tr>\n",
       "    <tr>\n",
       "      <th>198</th>\n",
       "      <td>101</td>\n",
       "      <td>94</td>\n",
       "      <td>58</td>\n",
       "      <td>1</td>\n",
       "    </tr>\n",
       "    <tr>\n",
       "      <th>199</th>\n",
       "      <td>91</td>\n",
       "      <td>55</td>\n",
       "      <td>58</td>\n",
       "      <td>1</td>\n",
       "    </tr>\n",
       "  </tbody>\n",
       "</table>\n",
       "</div>"
      ],
      "text/plain": [
       "     Weight  Color_Intensity  Roundness  Fruit_Type\n",
       "195     118               77         54           1\n",
       "196     107               51         54           1\n",
       "197     115               91         56           1\n",
       "198     101               94         58           1\n",
       "199      91               55         58           1"
      ]
     },
     "execution_count": 50,
     "metadata": {},
     "output_type": "execute_result"
    }
   ],
   "source": [
    "data.tail()"
   ]
  },
  {
   "cell_type": "code",
   "execution_count": 52,
   "id": "089882ae-9e8d-47a4-9815-5aa3b1bc51a2",
   "metadata": {},
   "outputs": [],
   "source": [
    "\n",
    "# Step 3: Split the dataset into training and testing sets\n",
    "X = data[['Weight', 'Color_Intensity', 'Roundness']]  # Features (inputs)\n",
    "y = data['Fruit_Type']  # Target (output)\n",
    "\n",
    "# Splitting 80% training and 20% testing\n",
    "X_train, X_test, y_train, y_test = train_test_split(X, y, test_size=0.2, random_state=42)\n",
    "\n"
   ]
  },
  {
   "cell_type": "markdown",
   "id": "ea0f85da-310f-4155-983c-024ce2755f36",
   "metadata": {},
   "source": [
    "### How KNN Handles Multiple Features?\n",
    "Each fruit is stored as a point in a 3D space, where:\n",
    "\n",
    "- Weight is one axis\n",
    "- Color Intensity is another axis\n",
    "- Roundness is the third axis\n",
    "\n",
    "So, the training data forms a cloud of points in a three-dimensional space.\n",
    "\n",
    "When making predictions, KNN will:\n",
    "\n",
    "Measure the distance from a new fruit to all stored points.\n",
    "Find the closest K neighbors.\n",
    "Use majority voting to decide the class (Apple or Orange)."
   ]
  },
  {
   "cell_type": "markdown",
   "id": "c02a950f-6a9b-4b8a-8cce-237994f530b7",
   "metadata": {},
   "source": [
    "Since KNN does not learn a function, it relies on distance measurements between fruits.\n",
    "\n",
    "The most commonly used distance formula is Euclidean Distance, which calculates how far two points are in the 3D space:\n",
    "\n",
    "### Euclidean Distance Formula\n",
    "\n",
    "For two points **Fruit 1** \\((W_1, C_1, R_1)\\) and **Fruit 2** \\((W_2, C_2, R_2)\\), the Euclidean distance \\(d\\) is calculated as:\n",
    "\n",
    "$$\n",
    "d = \\sqrt{(W_1 - W_2)^2 + (C_1 - C_2)^2 + (R_1 - R_2)^2}\n",
    "$$\n",
    "\n",
    "Where:\n",
    "- \\( W \\) = **Weight** (grams)\n",
    "- \\( C \\) = **Color Intensity** (scale 1-100)\n",
    "- \\( R \\) = **Roundness** (scale 1-100)\n",
    "\n",
    " \n",
    "Where:\n",
    "- 𝑊\n",
    "1\n",
    ",\n",
    "𝐶\n",
    "1\n",
    ",\n",
    "𝑅\n",
    "1\n",
    "  are the Weight, Color_Intensity, and Roundness of fruit 1.\n",
    "- 𝑊\n",
    "2\n",
    ",\n",
    "𝐶\n",
    "2\n",
    ",\n",
    "𝑅\n",
    "2\n",
    "  are the Weight, Color_Intensity, and Roundness of fruit 2.\n",
    "\n",
    "- KNN will use this distance when making predictions, not during training."
   ]
  },
  {
   "cell_type": "code",
   "execution_count": 53,
   "id": "f8049fa9-07eb-44ca-b378-1fc23871b439",
   "metadata": {},
   "outputs": [
    {
     "data": {
      "text/html": [
       "<style>#sk-container-id-3 {color: black;}#sk-container-id-3 pre{padding: 0;}#sk-container-id-3 div.sk-toggleable {background-color: white;}#sk-container-id-3 label.sk-toggleable__label {cursor: pointer;display: block;width: 100%;margin-bottom: 0;padding: 0.3em;box-sizing: border-box;text-align: center;}#sk-container-id-3 label.sk-toggleable__label-arrow:before {content: \"▸\";float: left;margin-right: 0.25em;color: #696969;}#sk-container-id-3 label.sk-toggleable__label-arrow:hover:before {color: black;}#sk-container-id-3 div.sk-estimator:hover label.sk-toggleable__label-arrow:before {color: black;}#sk-container-id-3 div.sk-toggleable__content {max-height: 0;max-width: 0;overflow: hidden;text-align: left;background-color: #f0f8ff;}#sk-container-id-3 div.sk-toggleable__content pre {margin: 0.2em;color: black;border-radius: 0.25em;background-color: #f0f8ff;}#sk-container-id-3 input.sk-toggleable__control:checked~div.sk-toggleable__content {max-height: 200px;max-width: 100%;overflow: auto;}#sk-container-id-3 input.sk-toggleable__control:checked~label.sk-toggleable__label-arrow:before {content: \"▾\";}#sk-container-id-3 div.sk-estimator input.sk-toggleable__control:checked~label.sk-toggleable__label {background-color: #d4ebff;}#sk-container-id-3 div.sk-label input.sk-toggleable__control:checked~label.sk-toggleable__label {background-color: #d4ebff;}#sk-container-id-3 input.sk-hidden--visually {border: 0;clip: rect(1px 1px 1px 1px);clip: rect(1px, 1px, 1px, 1px);height: 1px;margin: -1px;overflow: hidden;padding: 0;position: absolute;width: 1px;}#sk-container-id-3 div.sk-estimator {font-family: monospace;background-color: #f0f8ff;border: 1px dotted black;border-radius: 0.25em;box-sizing: border-box;margin-bottom: 0.5em;}#sk-container-id-3 div.sk-estimator:hover {background-color: #d4ebff;}#sk-container-id-3 div.sk-parallel-item::after {content: \"\";width: 100%;border-bottom: 1px solid gray;flex-grow: 1;}#sk-container-id-3 div.sk-label:hover label.sk-toggleable__label {background-color: #d4ebff;}#sk-container-id-3 div.sk-serial::before {content: \"\";position: absolute;border-left: 1px solid gray;box-sizing: border-box;top: 0;bottom: 0;left: 50%;z-index: 0;}#sk-container-id-3 div.sk-serial {display: flex;flex-direction: column;align-items: center;background-color: white;padding-right: 0.2em;padding-left: 0.2em;position: relative;}#sk-container-id-3 div.sk-item {position: relative;z-index: 1;}#sk-container-id-3 div.sk-parallel {display: flex;align-items: stretch;justify-content: center;background-color: white;position: relative;}#sk-container-id-3 div.sk-item::before, #sk-container-id-3 div.sk-parallel-item::before {content: \"\";position: absolute;border-left: 1px solid gray;box-sizing: border-box;top: 0;bottom: 0;left: 50%;z-index: -1;}#sk-container-id-3 div.sk-parallel-item {display: flex;flex-direction: column;z-index: 1;position: relative;background-color: white;}#sk-container-id-3 div.sk-parallel-item:first-child::after {align-self: flex-end;width: 50%;}#sk-container-id-3 div.sk-parallel-item:last-child::after {align-self: flex-start;width: 50%;}#sk-container-id-3 div.sk-parallel-item:only-child::after {width: 0;}#sk-container-id-3 div.sk-dashed-wrapped {border: 1px dashed gray;margin: 0 0.4em 0.5em 0.4em;box-sizing: border-box;padding-bottom: 0.4em;background-color: white;}#sk-container-id-3 div.sk-label label {font-family: monospace;font-weight: bold;display: inline-block;line-height: 1.2em;}#sk-container-id-3 div.sk-label-container {text-align: center;}#sk-container-id-3 div.sk-container {/* jupyter's `normalize.less` sets `[hidden] { display: none; }` but bootstrap.min.css set `[hidden] { display: none !important; }` so we also need the `!important` here to be able to override the default hidden behavior on the sphinx rendered scikit-learn.org. See: https://github.com/scikit-learn/scikit-learn/issues/21755 */display: inline-block !important;position: relative;}#sk-container-id-3 div.sk-text-repr-fallback {display: none;}</style><div id=\"sk-container-id-3\" class=\"sk-top-container\"><div class=\"sk-text-repr-fallback\"><pre>KNeighborsClassifier(n_neighbors=3)</pre><b>In a Jupyter environment, please rerun this cell to show the HTML representation or trust the notebook. <br />On GitHub, the HTML representation is unable to render, please try loading this page with nbviewer.org.</b></div><div class=\"sk-container\" hidden><div class=\"sk-item\"><div class=\"sk-estimator sk-toggleable\"><input class=\"sk-toggleable__control sk-hidden--visually\" id=\"sk-estimator-id-3\" type=\"checkbox\" checked><label for=\"sk-estimator-id-3\" class=\"sk-toggleable__label sk-toggleable__label-arrow\">KNeighborsClassifier</label><div class=\"sk-toggleable__content\"><pre>KNeighborsClassifier(n_neighbors=3)</pre></div></div></div></div></div>"
      ],
      "text/plain": [
       "KNeighborsClassifier(n_neighbors=3)"
      ]
     },
     "execution_count": 53,
     "metadata": {},
     "output_type": "execute_result"
    }
   ],
   "source": [
    "# Step 4: Train a KNN classifier\n",
    "knn = KNeighborsClassifier(n_neighbors=3)  # K=3 means we look at 3 nearest neighbors\n",
    "knn.fit(X_train, y_train)  # KNN stores the training data as it is.\n",
    "\n",
    "\n"
   ]
  },
  {
   "cell_type": "markdown",
   "id": "92e648c7-1640-4aae-99f0-69d1d68b954c",
   "metadata": {},
   "source": [
    " - What happens here?\n",
    "\n",
    "- KNN does NOT analyze, optimize, or adjust anything.\n",
    "- It simply stores these rows as they are.\n",
    "- No computation happens yet."
   ]
  },
  {
   "cell_type": "code",
   "execution_count": 55,
   "id": "91e34c80-ab95-49ec-9b39-7d43c1efb3a2",
   "metadata": {},
   "outputs": [
    {
     "name": "stderr",
     "output_type": "stream",
     "text": [
      "C:\\Users\\cz 3\\AppData\\Roaming\\Python\\Python38\\site-packages\\sklearn\\base.py:465: UserWarning: X does not have valid feature names, but KNeighborsClassifier was fitted with feature names\n",
      "  warnings.warn(\n"
     ]
    },
    {
     "data": {
      "text/plain": [
       "array([1])"
      ]
     },
     "execution_count": 55,
     "metadata": {},
     "output_type": "execute_result"
    }
   ],
   "source": [
    "knn.predict([[80,55,50]])"
   ]
  },
  {
   "cell_type": "code",
   "execution_count": 56,
   "id": "7f8b22f5-f016-498c-abff-0cd9b191ed14",
   "metadata": {},
   "outputs": [
    {
     "name": "stderr",
     "output_type": "stream",
     "text": [
      "C:\\Users\\cz 3\\AppData\\Roaming\\Python\\Python38\\site-packages\\sklearn\\base.py:465: UserWarning: X does not have valid feature names, but KNeighborsClassifier was fitted with feature names\n",
      "  warnings.warn(\n"
     ]
    },
    {
     "data": {
      "text/plain": [
       "array([1])"
      ]
     },
     "execution_count": 56,
     "metadata": {},
     "output_type": "execute_result"
    }
   ],
   "source": [
    "knn.predict([[120,55,50]])"
   ]
  },
  {
   "cell_type": "code",
   "execution_count": 57,
   "id": "4ef7df60-10e2-42b4-b276-b775aa08f432",
   "metadata": {},
   "outputs": [
    {
     "name": "stderr",
     "output_type": "stream",
     "text": [
      "C:\\Users\\cz 3\\AppData\\Roaming\\Python\\Python38\\site-packages\\sklearn\\base.py:465: UserWarning: X does not have valid feature names, but KNeighborsClassifier was fitted with feature names\n",
      "  warnings.warn(\n"
     ]
    },
    {
     "data": {
      "text/plain": [
       "array([0])"
      ]
     },
     "execution_count": 57,
     "metadata": {},
     "output_type": "execute_result"
    }
   ],
   "source": [
    "knn.predict([[130,55,50]])"
   ]
  },
  {
   "cell_type": "code",
   "execution_count": 59,
   "id": "cce467a0-24e7-45fb-ab88-51bcab0d6773",
   "metadata": {},
   "outputs": [
    {
     "data": {
      "text/plain": [
       "array([0, 0, 0, 1, 1, 1, 0, 1, 1, 0, 0, 1, 1, 0, 1, 1, 0, 1, 0, 0, 1, 0,\n",
       "       1, 0, 0, 1, 0, 0, 1, 1, 0, 0, 0, 0, 1, 1, 1, 1, 1, 0])"
      ]
     },
     "execution_count": 59,
     "metadata": {},
     "output_type": "execute_result"
    }
   ],
   "source": [
    "# Step 5: Make predictions on test data\n",
    "y_pred = knn.predict(X_test)\n",
    "\n",
    "y_pred"
   ]
  },
  {
   "cell_type": "markdown",
   "id": "8680513b-f667-45d4-8ea2-206ca2120fd5",
   "metadata": {},
   "source": [
    "## Once a new fruit comes in, KNN:\n",
    "\n",
    "- Computes distances between the new fruit and stored training data.\n",
    "- Finds the K nearest neighbors.\n",
    "- Uses majority voting to classify the fruit.\n",
    "- That’s when KNN actually \"works\"—but only at prediction time!"
   ]
  },
  {
   "cell_type": "code",
   "execution_count": 61,
   "id": "d4e39612-2377-4bc5-a9e1-02b0c1e355b5",
   "metadata": {},
   "outputs": [
    {
     "name": "stdout",
     "output_type": "stream",
     "text": [
      "\n",
      "Model Accuracy: 97.5 %\n"
     ]
    }
   ],
   "source": [
    "# Step 6: Evaluate accuracy of the model\n",
    "accuracy = accuracy_score(y_test, y_pred)\n",
    "print(\"\\nModel Accuracy:\", accuracy*100,\"%\")\n",
    "\n"
   ]
  },
  {
   "cell_type": "code",
   "execution_count": 62,
   "id": "037befb9-f1d8-420a-a3f8-dd59c2eb5208",
   "metadata": {},
   "outputs": [
    {
     "name": "stdout",
     "output_type": "stream",
     "text": [
      "\n",
      "Prediction for new fruit (Weight=160g, Color=80, Roundness=90): Apple\n"
     ]
    }
   ],
   "source": [
    "# Step 7: Predict a new fruit\n",
    "new_fruit = pd.DataFrame({'Weight': [160], 'Color_Intensity': [80], 'Roundness': [90]})\n",
    "prediction = knn.predict(new_fruit)\n",
    "print(\"\\nPrediction for new fruit (Weight=160g, Color=80, Roundness=90):\", \"Apple\" if prediction[0] == 0 else \"Orange\")\n"
   ]
  },
  {
   "cell_type": "code",
   "execution_count": null,
   "id": "092fa4ea-f3e0-4f2e-8407-a67057efcb0d",
   "metadata": {},
   "outputs": [],
   "source": []
  },
  {
   "cell_type": "markdown",
   "id": "e776624d-c90e-4705-8fe5-d1b059afff30",
   "metadata": {},
   "source": [
    "### When given a new example to classify, K-Nearest Neighbors (KNN) follows these steps:\n",
    "\n",
    "-️ Measure the distance between the new example and all training examples.\n",
    "- Sort the distances in ascending order (smallest distance = closest neighbor).\n",
    "️- Select the top K nearest examples from the sorted list.\n",
    "- Majority voting: The new example is classified based on the most common class among the K nearest neighbors.\n",
    "\n",
    "- KNN does this for every new example during prediction.\n",
    "- It does NOT perform any computation during training—it just stores the data."
   ]
  },
  {
   "cell_type": "code",
   "execution_count": null,
   "id": "d541caf6-1444-4765-a097-b2b2a4fff3f0",
   "metadata": {},
   "outputs": [],
   "source": []
  },
  {
   "cell_type": "code",
   "execution_count": null,
   "id": "31afaa6b-37c7-48fe-a35c-745875ce10f3",
   "metadata": {},
   "outputs": [],
   "source": []
  },
  {
   "cell_type": "code",
   "execution_count": null,
   "id": "7196eb49-0ec0-49d5-903c-31725ce6e70e",
   "metadata": {},
   "outputs": [],
   "source": []
  }
 ],
 "metadata": {
  "kernelspec": {
   "display_name": "Python 3 (ipykernel)",
   "language": "python",
   "name": "python3"
  },
  "language_info": {
   "codemirror_mode": {
    "name": "ipython",
    "version": 3
   },
   "file_extension": ".py",
   "mimetype": "text/x-python",
   "name": "python",
   "nbconvert_exporter": "python",
   "pygments_lexer": "ipython3",
   "version": "3.8.6"
  }
 },
 "nbformat": 4,
 "nbformat_minor": 5
}
