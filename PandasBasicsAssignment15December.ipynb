{
 "cells": [
  {
   "cell_type": "markdown",
   "id": "cc8e5707-af90-443e-b37b-f933e513d66f",
   "metadata": {},
   "source": [
    "In df.loc you have following options for Rows\n",
    "\n",
    "- directly give row number\n",
    "- give range 0:3\n",
    "- give a condition\n",
    "- #df.loc[index of rows,name of columns]"
   ]
  },
  {
   "cell_type": "markdown",
   "id": "a8c1eb90-e444-413d-9628-4162c339c6e5",
   "metadata": {},
   "source": [
    "Group by Indicator\n",
    "##### 1st Hint\n",
    "- each\n",
    "- by \n",
    "- per\n",
    "##### 2nd Hint Aggregate Keywords\n",
    "\n",
    "- total --> sum\n",
    "- average --> mean\n",
    "- maximum --> max\n",
    "- minimum -min\n",
    "- number of something-->count\n",
    "\n"
   ]
  },
  {
   "cell_type": "code",
   "execution_count": null,
   "id": "bbb133ae-9f0b-4203-b8ff-a58e32fb9b62",
   "metadata": {},
   "outputs": [],
   "source": []
  },
  {
   "cell_type": "code",
   "execution_count": null,
   "id": "442f0b8a-155f-464f-9971-560b6a3181d5",
   "metadata": {},
   "outputs": [],
   "source": []
  },
  {
   "cell_type": "code",
   "execution_count": 1,
   "id": "c1b5518b-c417-46bd-84e0-9a58b76d0c3b",
   "metadata": {},
   "outputs": [],
   "source": [
    "import pandas as pd\n"
   ]
  },
  {
   "cell_type": "markdown",
   "id": "d047817f-8b35-4ddd-8de7-366864043bf1",
   "metadata": {},
   "source": [
    "Read the \"Restaurant_Orders_Dataset.csv\" dataset and display head"
   ]
  },
  {
   "cell_type": "code",
   "execution_count": null,
   "id": "993dfaaa-f9a2-4591-9139-282942f752ee",
   "metadata": {},
   "outputs": [],
   "source": []
  },
  {
   "cell_type": "code",
   "execution_count": null,
   "id": "03e081e9-09d3-48a0-9f2f-c6fea612335b",
   "metadata": {},
   "outputs": [],
   "source": []
  },
  {
   "cell_type": "markdown",
   "id": "ac93973b-eba3-478c-9b04-72a717916368",
   "metadata": {},
   "source": [
    "##### TASK 1: Filter dataset by rows where TypeofOrder is 'Dinner'\n"
   ]
  },
  {
   "cell_type": "code",
   "execution_count": null,
   "id": "1ffb0a54-a453-4e5e-91d4-d393aafcb1a5",
   "metadata": {},
   "outputs": [],
   "source": []
  },
  {
   "cell_type": "code",
   "execution_count": null,
   "id": "a4e99d64-423b-4dfd-a531-0c45bbf6439d",
   "metadata": {},
   "outputs": [],
   "source": []
  },
  {
   "cell_type": "markdown",
   "id": "cfe0abf6-e60c-4db7-99db-8db5e31f6898",
   "metadata": {},
   "source": [
    "##### TASK 2: Select only OrderID and DishName columns\n"
   ]
  },
  {
   "cell_type": "code",
   "execution_count": null,
   "id": "8a4c063f-6080-4a3f-8b30-fbe984153efb",
   "metadata": {},
   "outputs": [],
   "source": []
  },
  {
   "cell_type": "code",
   "execution_count": null,
   "id": "53818cd2-22a7-4184-8d98-82461da8b99c",
   "metadata": {},
   "outputs": [],
   "source": []
  },
  {
   "cell_type": "code",
   "execution_count": null,
   "id": "c34ceb2b-62fa-4740-bdd4-dd409577cf24",
   "metadata": {},
   "outputs": [],
   "source": []
  },
  {
   "cell_type": "markdown",
   "id": "0903f503-7062-405a-b786-078d5d8a91ed",
   "metadata": {},
   "source": [
    "##### TASK 3: Filter dataset for orders with Quantity greater than 3\n"
   ]
  },
  {
   "cell_type": "code",
   "execution_count": null,
   "id": "2defacb7-c8da-475e-91b6-249442488c73",
   "metadata": {},
   "outputs": [],
   "source": []
  },
  {
   "cell_type": "code",
   "execution_count": null,
   "id": "1bf87d3e-79e6-42b8-8b0b-b07bf7441ea3",
   "metadata": {},
   "outputs": [],
   "source": []
  },
  {
   "cell_type": "code",
   "execution_count": null,
   "id": "ddb3ea6b-1bd6-41a7-a47e-d13f7de9c3d3",
   "metadata": {},
   "outputs": [],
   "source": []
  },
  {
   "cell_type": "markdown",
   "id": "db4433af-a35a-4d7e-95c6-356f2d569778",
   "metadata": {},
   "source": [
    "##### TASK 4: Filter dataset for Female customers who ordered Lunch\n"
   ]
  },
  {
   "cell_type": "code",
   "execution_count": null,
   "id": "2b6a50b8-fe47-4e3e-9399-a0d269a2fe81",
   "metadata": {},
   "outputs": [],
   "source": []
  },
  {
   "cell_type": "code",
   "execution_count": null,
   "id": "4f13d147-a7cc-4d1c-8728-fd7d0ed3033c",
   "metadata": {},
   "outputs": [],
   "source": []
  },
  {
   "cell_type": "markdown",
   "id": "263474bb-0f6a-4d06-8b9c-eb62738836a4",
   "metadata": {},
   "source": [
    "###### TASK 5: Select first 5 rows with only DishName and Rating columns\n"
   ]
  },
  {
   "cell_type": "code",
   "execution_count": null,
   "id": "4bb2c4be-f495-4bb4-a902-00a9df5c1333",
   "metadata": {},
   "outputs": [],
   "source": []
  },
  {
   "cell_type": "code",
   "execution_count": null,
   "id": "56d0fc60-e450-4021-920c-a89f320d22eb",
   "metadata": {},
   "outputs": [],
   "source": []
  },
  {
   "cell_type": "markdown",
   "id": "ca367187-0ce0-4125-9132-00b087a5fa74",
   "metadata": {},
   "source": [
    "###### TASK 6: Group dataset by DishName and calculate average Rating\n",
    "\n"
   ]
  },
  {
   "cell_type": "code",
   "execution_count": null,
   "id": "06aaee06-0725-470c-8f77-a5462d467758",
   "metadata": {},
   "outputs": [],
   "source": []
  },
  {
   "cell_type": "code",
   "execution_count": null,
   "id": "a4d5de44-4105-4ee5-bb56-d18b4cc8f34d",
   "metadata": {},
   "outputs": [],
   "source": []
  },
  {
   "cell_type": "markdown",
   "id": "284d1f52-d1e7-48f4-afb5-4b620246479c",
   "metadata": {},
   "source": [
    "#####  TASK 7: Group dataset by Gender and calculate total Quantity\n"
   ]
  },
  {
   "cell_type": "code",
   "execution_count": null,
   "id": "eba3cad0-30de-490f-adeb-dcd66d9e872a",
   "metadata": {},
   "outputs": [],
   "source": []
  },
  {
   "cell_type": "code",
   "execution_count": null,
   "id": "88201640-60ef-4da5-bd8d-767650c93b90",
   "metadata": {},
   "outputs": [],
   "source": []
  },
  {
   "cell_type": "markdown",
   "id": "8fe7d465-51e9-45a8-8de6-eb5b5932c85e",
   "metadata": {},
   "source": [
    "##### TASK 8: Group dataset by TypeofOrder and calculate average PriceofDish"
   ]
  },
  {
   "cell_type": "code",
   "execution_count": null,
   "id": "4c41228b-2cf7-49df-bd2b-3e3ec098021c",
   "metadata": {},
   "outputs": [],
   "source": []
  },
  {
   "cell_type": "code",
   "execution_count": null,
   "id": "21750a7a-3eb1-4f53-a5be-565b2340b904",
   "metadata": {},
   "outputs": [],
   "source": []
  },
  {
   "cell_type": "markdown",
   "id": "47e8c91c-d08c-4332-ba0c-edc13f3ef7b0",
   "metadata": {},
   "source": [
    "##### TASK 10: Group dataset by DishName and calculate maximum Quantity ordered"
   ]
  }
 ],
 "metadata": {
  "kernelspec": {
   "display_name": "Python 3 (ipykernel)",
   "language": "python",
   "name": "python3"
  },
  "language_info": {
   "codemirror_mode": {
    "name": "ipython",
    "version": 3
   },
   "file_extension": ".py",
   "mimetype": "text/x-python",
   "name": "python",
   "nbconvert_exporter": "python",
   "pygments_lexer": "ipython3",
   "version": "3.8.6"
  }
 },
 "nbformat": 4,
 "nbformat_minor": 5
}
