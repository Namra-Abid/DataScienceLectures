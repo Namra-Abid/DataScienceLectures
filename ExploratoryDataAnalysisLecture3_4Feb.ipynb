{
 "cells": [
  {
   "cell_type": "code",
   "execution_count": 12,
   "id": "52463522-0754-439b-926d-3798163fdbdf",
   "metadata": {},
   "outputs": [],
   "source": [
    "import numpy as np\n",
    "import pandas as pd"
   ]
  },
  {
   "cell_type": "code",
   "execution_count": 1,
   "id": "4417a009-388c-43d1-bf5e-ffda64b5e50c",
   "metadata": {},
   "outputs": [
    {
     "name": "stdout",
     "output_type": "stream",
     "text": [
      "7\n"
     ]
    }
   ],
   "source": [
    "# Simple function\n",
    "def add(x, y):\n",
    "    return x + y\n",
    "\n",
    "print(add(3, 4))  # Output: 7\n"
   ]
  },
  {
   "cell_type": "code",
   "execution_count": null,
   "id": "e7a904f4-4930-4aa3-8eb1-e102dca83195",
   "metadata": {},
   "outputs": [],
   "source": [
    "add = lambda x, y: x + y\n",
    "print(add(3, 4))  # Output: 7\n"
   ]
  },
  {
   "cell_type": "code",
   "execution_count": 4,
   "id": "46fec335-0b43-4204-85fd-6e7c1e5d293a",
   "metadata": {},
   "outputs": [],
   "source": [
    "def subract_1(a,b):\n",
    "    return a-b"
   ]
  },
  {
   "cell_type": "code",
   "execution_count": 5,
   "id": "d7ec73af-76cf-4267-b3b4-501b7953d22d",
   "metadata": {},
   "outputs": [
    {
     "data": {
      "text/plain": [
       "1"
      ]
     },
     "execution_count": 5,
     "metadata": {},
     "output_type": "execute_result"
    }
   ],
   "source": [
    "subract_1(9,8)"
   ]
  },
  {
   "cell_type": "code",
   "execution_count": 3,
   "id": "050ff96c-1c55-4458-ba89-66059fb24ee9",
   "metadata": {},
   "outputs": [
    {
     "data": {
      "text/plain": [
       "1"
      ]
     },
     "execution_count": 3,
     "metadata": {},
     "output_type": "execute_result"
    }
   ],
   "source": [
    "subract=lambda a,b:a-b\n",
    "subract(9,8) #9-8"
   ]
  },
  {
   "cell_type": "code",
   "execution_count": 6,
   "id": "de7069eb-1544-4828-93ad-3f73747ca9b0",
   "metadata": {},
   "outputs": [],
   "source": [
    "#Assignment multiplication and Division"
   ]
  },
  {
   "cell_type": "code",
   "execution_count": 7,
   "id": "d0d02682-192c-4893-acf1-202f0e9b1863",
   "metadata": {},
   "outputs": [
    {
     "name": "stdout",
     "output_type": "stream",
     "text": [
      "25\n"
     ]
    }
   ],
   "source": [
    "# Simple function\n",
    "def square(x):\n",
    "    return x ** 2\n",
    "\n",
    "print(square(5))  # Output: 25\n"
   ]
  },
  {
   "cell_type": "code",
   "execution_count": 8,
   "id": "b04c58ba-ae59-42a8-9d92-f8b939057076",
   "metadata": {},
   "outputs": [
    {
     "data": {
      "text/plain": [
       "4"
      ]
     },
     "execution_count": 8,
     "metadata": {},
     "output_type": "execute_result"
    }
   ],
   "source": [
    "square(2)"
   ]
  },
  {
   "cell_type": "code",
   "execution_count": 9,
   "id": "7e50d6bc-b529-4175-a273-e06e8e27a77e",
   "metadata": {},
   "outputs": [
    {
     "name": "stdout",
     "output_type": "stream",
     "text": [
      "25\n"
     ]
    }
   ],
   "source": [
    "square = lambda x: x ** 2\n",
    "print(square(5))  # Output: 25\n"
   ]
  },
  {
   "cell_type": "code",
   "execution_count": 17,
   "id": "ca7bcd95-c0d4-4893-9333-89b2b7bdbc83",
   "metadata": {},
   "outputs": [
    {
     "data": {
      "text/plain": [
       "[2000, 30000, 40000, 60000, 'Apple']"
      ]
     },
     "execution_count": 17,
     "metadata": {},
     "output_type": "execute_result"
    }
   ],
   "source": [
    "list1=[2000, 30000, 40000,60000,'Apple']\n",
    "list1"
   ]
  },
  {
   "cell_type": "code",
   "execution_count": 19,
   "id": "8feb86aa-15e1-4280-95c4-fe188995020b",
   "metadata": {},
   "outputs": [
    {
     "data": {
      "text/plain": [
       "array([1, 2, 3, 4, 5])"
      ]
     },
     "execution_count": 19,
     "metadata": {},
     "output_type": "execute_result"
    }
   ],
   "source": [
    "np_array=np.array([1,2,3,4,5,])\n",
    "np_array"
   ]
  },
  {
   "cell_type": "code",
   "execution_count": 23,
   "id": "4f2d0ed6-66f2-4fcc-b554-7d54719abeff",
   "metadata": {},
   "outputs": [
    {
     "name": "stdout",
     "output_type": "stream",
     "text": [
      "Python List Time: 0.0014586001634597778 seconds\n",
      "NumPy Array Time: 0.009681600145995617 seconds\n",
      "Python List Time (minutes): 2.431000272432963e-05\n",
      "NumPy Array Time (minutes): 0.00016136000243326029\n"
     ]
    }
   ],
   "source": [
    "import timeit\n",
    "\n",
    "python_list = [i for i in range(10**2)]\n",
    "numpy_array = np.array(python_list)\n",
    "\n",
    "python_list_time = timeit.timeit(lambda: sum(python_list), number=1000) #summing the same list\n",
    "numpy_array_time = timeit.timeit(lambda: np.sum(numpy_array), number=1000)#summming the same array\n",
    "print(\"Python List Time:\", python_list_time, \"seconds\")\n",
    "print(\"NumPy Array Time:\", numpy_array_time, \"seconds\")\n",
    "\n",
    "# Convert to minutes\n",
    "python_list_time_minutes = python_list_time / 60\n",
    "numpy_array_time_minutes = numpy_array_time / 60\n",
    "\n",
    "print(\"Python List Time (minutes):\", python_list_time_minutes)\n",
    "print(\"NumPy Array Time (minutes):\", numpy_array_time_minutes)"
   ]
  },
  {
   "cell_type": "markdown",
   "id": "00b6e210-7928-45b2-b425-0340bd9a37b6",
   "metadata": {},
   "source": [
    "The performance difference between Python lists and NumPy arrays becomes more pronounced as the size of the data increases. NumPy is optimized for array operations, making it particularly efficient for large-scale numerical computations."
   ]
  },
  {
   "cell_type": "code",
   "execution_count": 25,
   "id": "7ceceedf-46cc-4660-a116-51ff064f10cf",
   "metadata": {},
   "outputs": [
    {
     "name": "stdout",
     "output_type": "stream",
     "text": [
      "1\n"
     ]
    }
   ],
   "source": [
    "vector = np.array([1, 2, 3])\n",
    "print(vector.ndim)  # Output: 1"
   ]
  },
  {
   "cell_type": "code",
   "execution_count": 26,
   "id": "cfef2567-a6a2-49ce-8b58-491dc58d33fa",
   "metadata": {},
   "outputs": [
    {
     "data": {
      "text/plain": [
       "array([1, 2, 3])"
      ]
     },
     "execution_count": 26,
     "metadata": {},
     "output_type": "execute_result"
    }
   ],
   "source": [
    "vector"
   ]
  },
  {
   "cell_type": "code",
   "execution_count": 27,
   "id": "3b6208e5-9114-439c-a7c0-bd1408dd7e44",
   "metadata": {},
   "outputs": [
    {
     "name": "stdout",
     "output_type": "stream",
     "text": [
      "2\n"
     ]
    }
   ],
   "source": [
    "matrix = np.array([[1, 2, 3], [4, 5, 6]])\n",
    "print(matrix.ndim)  # Output: 2"
   ]
  },
  {
   "cell_type": "code",
   "execution_count": 28,
   "id": "5d659389-de56-4800-8796-66ed9383b3f2",
   "metadata": {},
   "outputs": [
    {
     "data": {
      "text/plain": [
       "array([[1, 2, 3],\n",
       "       [4, 5, 6]])"
      ]
     },
     "execution_count": 28,
     "metadata": {},
     "output_type": "execute_result"
    }
   ],
   "source": [
    "matrix"
   ]
  },
  {
   "cell_type": "code",
   "execution_count": 29,
   "id": "5cd41241-4307-4f01-becd-a890689c8054",
   "metadata": {},
   "outputs": [
    {
     "name": "stdout",
     "output_type": "stream",
     "text": [
      "3\n"
     ]
    }
   ],
   "source": [
    "\n",
    "cube = np.array([[[1, 2], [3, 4]], [[5, 6], [7, 8]]])\n",
    "print(cube.ndim)  # Output: 3\n"
   ]
  },
  {
   "cell_type": "code",
   "execution_count": 30,
   "id": "06bf7af9-04fa-41ee-8d71-1ffb6e183077",
   "metadata": {},
   "outputs": [
    {
     "data": {
      "text/plain": [
       "array([[[1, 2],\n",
       "        [3, 4]],\n",
       "\n",
       "       [[5, 6],\n",
       "        [7, 8]]])"
      ]
     },
     "execution_count": 30,
     "metadata": {},
     "output_type": "execute_result"
    }
   ],
   "source": [
    "cube"
   ]
  },
  {
   "cell_type": "code",
   "execution_count": 33,
   "id": "bfecbcd2-44e4-4bae-aa5e-1ea71b650bb4",
   "metadata": {},
   "outputs": [
    {
     "name": "stdout",
     "output_type": "stream",
     "text": [
      "4\n"
     ]
    }
   ],
   "source": [
    "\n",
    "hypercube = np.random.random((2, 3, 4, 5))\n",
    "print(hypercube.ndim)  # Output: 4\n"
   ]
  },
  {
   "cell_type": "code",
   "execution_count": 34,
   "id": "859b1127-8a1c-4a4e-a776-7241f21ae89e",
   "metadata": {},
   "outputs": [
    {
     "data": {
      "text/plain": [
       "array([[[[8.65340057e-01, 1.58545918e-01, 5.75382744e-01,\n",
       "          9.74713279e-01, 6.87636362e-01],\n",
       "         [1.33798085e-01, 6.65919712e-01, 6.76594723e-01,\n",
       "          9.58129156e-01, 8.42883954e-01],\n",
       "         [1.21116719e-01, 4.40584519e-01, 4.95146212e-01,\n",
       "          3.69525745e-01, 8.10629784e-01],\n",
       "         [8.96907560e-01, 7.54824958e-01, 6.95711003e-01,\n",
       "          8.76341006e-01, 6.11671403e-01]],\n",
       "\n",
       "        [[2.93032381e-01, 7.47637995e-02, 2.36110142e-01,\n",
       "          2.21660087e-01, 6.29684304e-01],\n",
       "         [6.96971816e-01, 7.06578745e-01, 2.34525128e-01,\n",
       "          5.31925572e-01, 4.63432806e-01],\n",
       "         [1.29947466e-01, 7.01870748e-01, 3.03109618e-01,\n",
       "          1.72053159e-03, 9.35497119e-01],\n",
       "         [9.61066791e-01, 7.17196007e-01, 6.70850735e-01,\n",
       "          9.85415416e-01, 3.52305892e-01]],\n",
       "\n",
       "        [[9.03240926e-01, 7.91409075e-04, 1.11871694e-01,\n",
       "          3.91756739e-01, 5.92125865e-02],\n",
       "         [5.60325737e-01, 1.97926496e-01, 1.56687753e-01,\n",
       "          8.80979448e-01, 5.83501129e-01],\n",
       "         [1.92538941e-01, 9.64969965e-01, 2.77318584e-01,\n",
       "          1.82593520e-01, 5.81051122e-01],\n",
       "         [1.34681742e-01, 8.77957140e-01, 9.25877805e-01,\n",
       "          9.33174100e-01, 5.14069727e-01]]],\n",
       "\n",
       "\n",
       "       [[[8.06533500e-01, 7.28798239e-01, 1.53759138e-01,\n",
       "          6.12487572e-01, 1.10846963e-01],\n",
       "         [5.04966898e-01, 4.18252455e-01, 2.30692843e-01,\n",
       "          3.51856727e-01, 1.96907553e-01],\n",
       "         [5.25934453e-01, 7.75310982e-01, 2.49784079e-01,\n",
       "          2.74895780e-01, 2.58559276e-01],\n",
       "         [1.80505249e-01, 7.69501306e-01, 1.23464721e-01,\n",
       "          8.64258366e-01, 5.22231859e-01]],\n",
       "\n",
       "        [[5.67764970e-01, 8.74193898e-01, 9.84731608e-01,\n",
       "          8.19684122e-01, 6.88547736e-01],\n",
       "         [3.89186446e-01, 7.54740352e-01, 9.23229229e-01,\n",
       "          4.01618494e-01, 7.75038757e-01],\n",
       "         [2.62748938e-01, 9.82065406e-01, 9.86768985e-01,\n",
       "          3.82285195e-02, 4.82207383e-01],\n",
       "         [5.44934746e-01, 6.02715149e-01, 9.35057235e-01,\n",
       "          9.96385690e-01, 9.26916690e-01]],\n",
       "\n",
       "        [[6.62730157e-01, 7.71667292e-01, 8.87108242e-01,\n",
       "          6.06487237e-01, 5.87424471e-01],\n",
       "         [7.38447795e-01, 4.40208699e-01, 2.14673394e-01,\n",
       "          3.14127569e-01, 3.04452492e-01],\n",
       "         [5.44785515e-01, 5.04032512e-01, 7.34393609e-01,\n",
       "          5.13572199e-01, 5.34888172e-01],\n",
       "         [9.46230721e-01, 3.94896316e-01, 8.22780532e-01,\n",
       "          9.01026492e-01, 3.51262931e-01]]]])"
      ]
     },
     "execution_count": 34,
     "metadata": {},
     "output_type": "execute_result"
    }
   ],
   "source": [
    "hypercube"
   ]
  },
  {
   "cell_type": "code",
   "execution_count": 35,
   "id": "a2a1eb6f-5088-43b3-8728-8344166a36af",
   "metadata": {},
   "outputs": [
    {
     "data": {
      "text/plain": [
       "array([ 2,  4,  8, 20])"
      ]
     },
     "execution_count": 35,
     "metadata": {},
     "output_type": "execute_result"
    }
   ],
   "source": [
    "#Broadcasting\n",
    "data = np.array([1, 2,4,10])\n",
    "data * 2"
   ]
  },
  {
   "cell_type": "code",
   "execution_count": null,
   "id": "46c37569-0a44-4c8b-96fa-e22c996639e4",
   "metadata": {},
   "outputs": [],
   "source": []
  },
  {
   "cell_type": "code",
   "execution_count": 39,
   "id": "e2d74403-fd73-461e-a0f6-a140d7ce33c9",
   "metadata": {},
   "outputs": [
    {
     "data": {
      "text/plain": [
       "array([1, 2, 3, 4])"
      ]
     },
     "execution_count": 39,
     "metadata": {},
     "output_type": "execute_result"
    }
   ],
   "source": [
    "array_1 = np.array(range(1, 5)) #numpy_array.reshape(rows, columns)\n",
    "array_1"
   ]
  },
  {
   "cell_type": "code",
   "execution_count": 40,
   "id": "eab5fadf-80e7-4012-9c51-844456e517d4",
   "metadata": {},
   "outputs": [
    {
     "name": "stdout",
     "output_type": "stream",
     "text": [
      "2x2 Matrix:\n",
      "[[1 2]\n",
      " [3 4]]\n"
     ]
    }
   ],
   "source": [
    "matrix_2x2= array_1.reshape(2, 2)\n",
    "\n",
    "print(\"2x2 Matrix:\")\n",
    "print(matrix_2x2)"
   ]
  },
  {
   "cell_type": "code",
   "execution_count": 41,
   "id": "3edf42f6-8957-4763-a8dd-e630bd684a0a",
   "metadata": {},
   "outputs": [
    {
     "data": {
      "text/plain": [
       "array([ 1,  2,  3,  4,  5,  6,  7,  8,  9, 10])"
      ]
     },
     "execution_count": 41,
     "metadata": {},
     "output_type": "execute_result"
    }
   ],
   "source": [
    "array2=np.array(range(1,11))\n",
    "array2"
   ]
  },
  {
   "cell_type": "code",
   "execution_count": 43,
   "id": "fbc38806-a210-4220-a14b-523f5f8d3fb4",
   "metadata": {},
   "outputs": [
    {
     "data": {
      "text/plain": [
       "array([[ 1,  2],\n",
       "       [ 3,  4],\n",
       "       [ 5,  6],\n",
       "       [ 7,  8],\n",
       "       [ 9, 10]])"
      ]
     },
     "execution_count": 43,
     "metadata": {},
     "output_type": "execute_result"
    }
   ],
   "source": [
    "matrix_5x2=array2.reshape(5,2)\n",
    "\n",
    "\n",
    "matrix_5x2"
   ]
  },
  {
   "cell_type": "code",
   "execution_count": 44,
   "id": "0d387e3a-2349-4c4a-815a-64abe9c88a42",
   "metadata": {},
   "outputs": [
    {
     "data": {
      "text/plain": [
       "array([1, 2, 3])"
      ]
     },
     "execution_count": 44,
     "metadata": {},
     "output_type": "execute_result"
    }
   ],
   "source": [
    "array3=np.array(range(1,4))\n",
    "array3"
   ]
  },
  {
   "cell_type": "code",
   "execution_count": 45,
   "id": "a1ec6111-9b5e-40a3-a545-b7870a09f927",
   "metadata": {},
   "outputs": [
    {
     "data": {
      "text/plain": [
       "array([[1],\n",
       "       [2],\n",
       "       [3]])"
      ]
     },
     "execution_count": 45,
     "metadata": {},
     "output_type": "execute_result"
    }
   ],
   "source": [
    "matrix_3x1=array3.reshape(3,1)\n",
    "\n",
    "\n",
    "matrix_3x1"
   ]
  },
  {
   "cell_type": "code",
   "execution_count": 48,
   "id": "6d221354-ba87-4e4c-9616-82ee228895a8",
   "metadata": {},
   "outputs": [
    {
     "data": {
      "text/plain": [
       "10"
      ]
     },
     "execution_count": 48,
     "metadata": {},
     "output_type": "execute_result"
    }
   ],
   "source": [
    "matrix_5x2.max()"
   ]
  },
  {
   "cell_type": "code",
   "execution_count": 49,
   "id": "6a0beb6d-fc30-4145-8f02-e5eefe303c81",
   "metadata": {},
   "outputs": [
    {
     "data": {
      "text/plain": [
       "1"
      ]
     },
     "execution_count": 49,
     "metadata": {},
     "output_type": "execute_result"
    }
   ],
   "source": [
    "matrix_5x2.min()\n"
   ]
  },
  {
   "cell_type": "code",
   "execution_count": 50,
   "id": "8f7944ec-e329-48ef-944d-89571ad8d87c",
   "metadata": {},
   "outputs": [
    {
     "data": {
      "text/plain": [
       "55"
      ]
     },
     "execution_count": 50,
     "metadata": {},
     "output_type": "execute_result"
    }
   ],
   "source": [
    "matrix_5x2.sum()"
   ]
  },
  {
   "cell_type": "code",
   "execution_count": 52,
   "id": "71bcaf5b-84b9-43bf-a3c7-aa08b4f8cc82",
   "metadata": {},
   "outputs": [
    {
     "data": {
      "text/plain": [
       "array([[1, 2],\n",
       "       [3, 4],\n",
       "       [5, 6]])"
      ]
     },
     "execution_count": 52,
     "metadata": {},
     "output_type": "execute_result"
    }
   ],
   "source": [
    "data = np.array([[1, 2], [3, 4], [5, 6]])\n",
    "data"
   ]
  },
  {
   "cell_type": "markdown",
   "id": "6eb1dd46-0ef1-4cef-ab7c-c678ebf46459",
   "metadata": {},
   "source": [
    "<img src=\"1.PNG\" alt=\"Alt text\" width=\"400\"/>"
   ]
  },
  {
   "cell_type": "code",
   "execution_count": 55,
   "id": "e5ee9047-1240-4391-b4b8-1964ce267da1",
   "metadata": {},
   "outputs": [
    {
     "data": {
      "text/plain": [
       "2"
      ]
     },
     "execution_count": 55,
     "metadata": {},
     "output_type": "execute_result"
    }
   ],
   "source": [
    "data[0, 1]"
   ]
  },
  {
   "cell_type": "markdown",
   "id": "cc990368-b592-4baf-8df4-838c6f740315",
   "metadata": {},
   "source": [
    "<img src=\"2.PNG\" alt=\"Alt text\" width=\"400\"/>\n"
   ]
  },
  {
   "cell_type": "code",
   "execution_count": 58,
   "id": "96a00881-db4e-4f0c-8534-126cd6282c11",
   "metadata": {},
   "outputs": [
    {
     "data": {
      "text/plain": [
       "array([[1, 2],\n",
       "       [3, 4]])"
      ]
     },
     "execution_count": 58,
     "metadata": {},
     "output_type": "execute_result"
    }
   ],
   "source": [
    "data[0:2]\n"
   ]
  },
  {
   "cell_type": "markdown",
   "id": "da44c6e6-f49c-4a45-b458-afe1616877e4",
   "metadata": {},
   "source": [
    "<img src=\"3.PNG\" alt=\"Alt text\" width=\"400\"/>\n"
   ]
  },
  {
   "cell_type": "code",
   "execution_count": 59,
   "id": "ef2ce3a7-f1a4-4369-9aa4-2112d3a31db7",
   "metadata": {},
   "outputs": [
    {
     "data": {
      "text/plain": [
       "array([[1, 2],\n",
       "       [5, 3],\n",
       "       [4, 6]])"
      ]
     },
     "execution_count": 59,
     "metadata": {},
     "output_type": "execute_result"
    }
   ],
   "source": [
    "data2 = np.array([[1, 2], [5, 3], [4, 6]])\n",
    "data2"
   ]
  },
  {
   "cell_type": "code",
   "execution_count": 60,
   "id": "4135a8ac-3b34-4a3b-8192-cd4346204acc",
   "metadata": {},
   "outputs": [
    {
     "data": {
      "text/plain": [
       "6"
      ]
     },
     "execution_count": 60,
     "metadata": {},
     "output_type": "execute_result"
    }
   ],
   "source": [
    "data2.max()\n"
   ]
  },
  {
   "cell_type": "code",
   "execution_count": 61,
   "id": "efabbb7c-a291-4e49-8f0a-37b9852ef239",
   "metadata": {},
   "outputs": [
    {
     "data": {
      "text/plain": [
       "array([5, 6])"
      ]
     },
     "execution_count": 61,
     "metadata": {},
     "output_type": "execute_result"
    }
   ],
   "source": [
    "data2.max(axis=0)"
   ]
  },
  {
   "cell_type": "markdown",
   "id": "97fb26f1-6bfd-4903-af4c-dc66522cef5a",
   "metadata": {},
   "source": [
    "<img src=\"4.PNG\" alt=\"Alt text\" width=\"400\"/>\n"
   ]
  },
  {
   "cell_type": "code",
   "execution_count": 62,
   "id": "9f9a5bec-5aa9-49ad-9dea-64410b027c8a",
   "metadata": {
    "scrolled": true
   },
   "outputs": [
    {
     "data": {
      "text/plain": [
       "array([2, 5, 6])"
      ]
     },
     "execution_count": 62,
     "metadata": {},
     "output_type": "execute_result"
    }
   ],
   "source": [
    "data2.max(axis=1)"
   ]
  },
  {
   "cell_type": "markdown",
   "id": "1a73e77d-1270-4a90-b8aa-982b1da65e2e",
   "metadata": {},
   "source": [
    "<img src=\"5.PNG\" alt=\"Alt text\" width=\"400\"/>\n"
   ]
  },
  {
   "cell_type": "code",
   "execution_count": 65,
   "id": "5b9b37ac-8218-44ee-98cc-71ce9c20551d",
   "metadata": {},
   "outputs": [
    {
     "data": {
      "text/plain": [
       "array([[ 1,  2,  9],\n",
       "       [ 5, 10,  3],\n",
       "       [ 6,  2,  1]])"
      ]
     },
     "execution_count": 65,
     "metadata": {},
     "output_type": "execute_result"
    }
   ],
   "source": [
    "data3 = np.array([[1, 2,9], [5,10, 3], [6, 2,1]])\n",
    "data3"
   ]
  },
  {
   "cell_type": "code",
   "execution_count": 66,
   "id": "054837e5-b7e7-49a9-bd2a-3fba5b6043d0",
   "metadata": {},
   "outputs": [
    {
     "data": {
      "text/plain": [
       "array([ 6, 10,  9])"
      ]
     },
     "execution_count": 66,
     "metadata": {},
     "output_type": "execute_result"
    }
   ],
   "source": [
    "data3.max(axis=0)"
   ]
  },
  {
   "cell_type": "code",
   "execution_count": 67,
   "id": "980bd955-cff6-4a80-82ee-850fb3c7ffad",
   "metadata": {},
   "outputs": [
    {
     "data": {
      "text/plain": [
       "array([ 9, 10,  6])"
      ]
     },
     "execution_count": 67,
     "metadata": {},
     "output_type": "execute_result"
    }
   ],
   "source": [
    "data3.max(axis=1)"
   ]
  },
  {
   "cell_type": "code",
   "execution_count": 69,
   "id": "b1ac6f26-dc8c-4290-b04a-40f51b39a0fe",
   "metadata": {},
   "outputs": [
    {
     "data": {
      "text/plain": [
       "array([[ 1,  2,  9, 10, 11, 15],\n",
       "       [15, 10,  3,  6,  0,  1],\n",
       "       [ 6, 25,  0,  1, 10,  4]])"
      ]
     },
     "execution_count": 69,
     "metadata": {},
     "output_type": "execute_result"
    }
   ],
   "source": [
    "data4 = np.array([[1, 2,9,10,11,15], [15,10, 3,6,0,1], [6, 25,0,1,10,4]])\n",
    "data4"
   ]
  },
  {
   "cell_type": "code",
   "execution_count": 70,
   "id": "e433e27c-b533-4b72-b568-ee395be492d1",
   "metadata": {},
   "outputs": [
    {
     "data": {
      "text/plain": [
       "array([15, 25,  9, 10, 11, 15])"
      ]
     },
     "execution_count": 70,
     "metadata": {},
     "output_type": "execute_result"
    }
   ],
   "source": [
    "data4.max(axis=0)"
   ]
  },
  {
   "cell_type": "code",
   "execution_count": 71,
   "id": "48feef1d-d7dc-4720-b990-3fe8ffd76b5a",
   "metadata": {},
   "outputs": [
    {
     "data": {
      "text/plain": [
       "array([15, 15, 25])"
      ]
     },
     "execution_count": 71,
     "metadata": {},
     "output_type": "execute_result"
    }
   ],
   "source": [
    "data4.max(axis=1)"
   ]
  },
  {
   "cell_type": "code",
   "execution_count": 72,
   "id": "345dfe4d-3668-4621-bf2c-464dfc42972a",
   "metadata": {},
   "outputs": [
    {
     "data": {
      "text/plain": [
       "array([[1, 2],\n",
       "       [3, 4]])"
      ]
     },
     "execution_count": 72,
     "metadata": {},
     "output_type": "execute_result"
    }
   ],
   "source": [
    "data_3 = np.array([[1, 2], [3, 4]])\n",
    "data_3"
   ]
  },
  {
   "cell_type": "code",
   "execution_count": 74,
   "id": "02d339f0-fbf4-48e9-b9e8-6d76366570f6",
   "metadata": {},
   "outputs": [
    {
     "data": {
      "text/plain": [
       "array([[1, 1],\n",
       "       [1, 1]])"
      ]
     },
     "execution_count": 74,
     "metadata": {},
     "output_type": "execute_result"
    }
   ],
   "source": [
    "\n",
    "ones = np.array([[1, 1], [1, 1]])\n",
    "ones"
   ]
  },
  {
   "cell_type": "code",
   "execution_count": 77,
   "id": "17484b48-2fe5-4384-b601-855a42785d9d",
   "metadata": {},
   "outputs": [
    {
     "data": {
      "text/plain": [
       "array([[2, 3],\n",
       "       [4, 5]])"
      ]
     },
     "execution_count": 77,
     "metadata": {},
     "output_type": "execute_result"
    }
   ],
   "source": [
    "data_3 + ones"
   ]
  },
  {
   "cell_type": "markdown",
   "id": "9fcc4110-55c6-416e-8687-6d540c2accef",
   "metadata": {},
   "source": [
    "<img src=\"6.PNG\" alt=\"Alt text\" width=\"400\"/>\n"
   ]
  },
  {
   "cell_type": "code",
   "execution_count": 78,
   "id": "d76cf447-2a5f-4f14-9bf3-6a14cb6e4b14",
   "metadata": {},
   "outputs": [
    {
     "data": {
      "text/plain": [
       "array([[1, 2],\n",
       "       [3, 4],\n",
       "       [5, 6]])"
      ]
     },
     "execution_count": 78,
     "metadata": {},
     "output_type": "execute_result"
    }
   ],
   "source": [
    "data_4 = np.array([[1, 2], [3, 4], [5, 6]])\n",
    "data_4"
   ]
  },
  {
   "cell_type": "code",
   "execution_count": 80,
   "id": "facd8227-6dd5-43f7-bf67-7f170976daa7",
   "metadata": {},
   "outputs": [
    {
     "data": {
      "text/plain": [
       "array([[1, 1]])"
      ]
     },
     "execution_count": 80,
     "metadata": {},
     "output_type": "execute_result"
    }
   ],
   "source": [
    "ones_row = np.array([[1, 1]])\n",
    "ones_row"
   ]
  },
  {
   "cell_type": "code",
   "execution_count": null,
   "id": "28b46883-f9bd-4729-8ec7-7e4dbe836b1f",
   "metadata": {},
   "outputs": [],
   "source": []
  },
  {
   "cell_type": "code",
   "execution_count": 81,
   "id": "5c5c8031-6291-426c-a01c-c5cd8ccb5755",
   "metadata": {},
   "outputs": [
    {
     "data": {
      "text/plain": [
       "array([[2, 3],\n",
       "       [4, 5],\n",
       "       [6, 7]])"
      ]
     },
     "execution_count": 81,
     "metadata": {},
     "output_type": "execute_result"
    }
   ],
   "source": [
    "data_4 + ones_row"
   ]
  },
  {
   "cell_type": "markdown",
   "id": "9200623e-a8e0-45fe-9e17-3add34af5fae",
   "metadata": {},
   "source": [
    "<img src=\"7.PNG\" alt=\"Alt text\" width=\"400\"/>\n"
   ]
  },
  {
   "cell_type": "code",
   "execution_count": null,
   "id": "7a49f097-c638-48bf-abf3-bb7d483371eb",
   "metadata": {},
   "outputs": [],
   "source": [
    "# <img src=\"6.PNG\" alt=\"Alt text\" width=\"400\"/>\n",
    "# <img src=\"6.PNG\" alt=\"Alt text\" width=\"400\"/>\n"
   ]
  },
  {
   "cell_type": "code",
   "execution_count": null,
   "id": "bc2107f8-b11a-4260-bac4-4f65ec0a7d39",
   "metadata": {},
   "outputs": [],
   "source": [
    "np.ones(3)\n"
   ]
  },
  {
   "cell_type": "code",
   "execution_count": null,
   "id": "c54cbe8c-122d-4487-958a-3833e4033d53",
   "metadata": {},
   "outputs": [],
   "source": [
    "np.zeros(3)\n"
   ]
  },
  {
   "cell_type": "code",
   "execution_count": null,
   "id": "e15d75bf-8862-440b-beb9-a026f5db2280",
   "metadata": {},
   "outputs": [],
   "source": [
    "rng = np.random.default_rng()  # the simplest way to generate random numbers\n",
    "#This will print a random float between 0.0 (inclusive) and 1.0 (exclusive).\n",
    "\n",
    "\n",
    "rng.random(3) "
   ]
  },
  {
   "cell_type": "markdown",
   "id": "ba8db78b-9928-4ef8-bf7d-28f1b64e9b36",
   "metadata": {},
   "source": [
    "<img src=\"8.PNG\" alt=\"Alt text\" width=\"400\"/>\n"
   ]
  },
  {
   "cell_type": "code",
   "execution_count": null,
   "id": "b50613a3-38eb-4708-9110-2ad4d192191d",
   "metadata": {},
   "outputs": [],
   "source": [
    "np.ones((3, 2))\n"
   ]
  },
  {
   "cell_type": "code",
   "execution_count": null,
   "id": "8f6f4a53-be8f-4a22-8a62-b190359f9f5c",
   "metadata": {},
   "outputs": [],
   "source": [
    "np.ones((3, 2))\n"
   ]
  },
  {
   "cell_type": "code",
   "execution_count": null,
   "id": "25395f1a-58b0-43ef-854f-28d9b24dcab2",
   "metadata": {},
   "outputs": [],
   "source": [
    "rng.random((3, 2))"
   ]
  },
  {
   "cell_type": "code",
   "execution_count": null,
   "id": "653e7e95-b17d-4800-ad5f-da0d4e9012c2",
   "metadata": {},
   "outputs": [],
   "source": []
  },
  {
   "cell_type": "markdown",
   "id": "c189debd-c5e0-4534-82bb-0f920a39805f",
   "metadata": {},
   "source": [
    "<img src=\"9.PNG\" alt=\"Alt text\" width=\"400\"/>\n"
   ]
  },
  {
   "cell_type": "code",
   "execution_count": null,
   "id": "fafb09c8-3902-4650-9c36-a0f674b5cec2",
   "metadata": {},
   "outputs": [],
   "source": [
    "rng.integers(5, size=(2, 4)) #rng.integers(low, high, size=None, dtype=int)\n"
   ]
  },
  {
   "cell_type": "code",
   "execution_count": null,
   "id": "71e1c2de-71ae-4d66-a73c-bae62dda7179",
   "metadata": {},
   "outputs": [],
   "source": [
    "arr = np.arange(6).reshape((2, 3))\n",
    "arr"
   ]
  },
  {
   "cell_type": "code",
   "execution_count": null,
   "id": "1f3b8a94-835d-4b3f-a474-1c1cb3be3266",
   "metadata": {},
   "outputs": [],
   "source": [
    "arr.transpose()"
   ]
  },
  {
   "cell_type": "code",
   "execution_count": null,
   "id": "4e2bd40e-fff2-47bd-bbf0-31249d252759",
   "metadata": {},
   "outputs": [],
   "source": [
    "arr.T"
   ]
  },
  {
   "cell_type": "code",
   "execution_count": null,
   "id": "f9f51bb6-1f44-479e-ad83-9d201d371c72",
   "metadata": {},
   "outputs": [],
   "source": [
    "#You can use flatten to flatten your array into a 1D array.\n",
    "\n",
    "x = np.array([[1 , 2, 3, 4], [5, 6, 7, 8], [9, 10, 11, 12]])\n",
    "x"
   ]
  },
  {
   "cell_type": "code",
   "execution_count": null,
   "id": "340353be-9286-4589-af41-ab631bf92698",
   "metadata": {},
   "outputs": [],
   "source": [
    "x.flatten()"
   ]
  },
  {
   "cell_type": "code",
   "execution_count": null,
   "id": "184c8fc8-c49f-482d-90f3-a9b840326792",
   "metadata": {},
   "outputs": [],
   "source": [
    "a = np.array([[-2.58289208,  0.43014843, -1.24082018, 1.59572603],\n",
    "              [ 0.99027828, 1.17150989,  0.94125714, -0.14692469],\n",
    "              [ 0.76989341,  0.81299683, -0.95068423, 0.11769564],\n",
    "              [ 0.20484034,  0.34784527,  1.96979195, 0.51992837]])"
   ]
  },
  {
   "cell_type": "code",
   "execution_count": null,
   "id": "70e6662e-a3c3-4dc7-a00a-4c54e9275424",
   "metadata": {},
   "outputs": [],
   "source": [
    "dataframe = pd.DataFrame(a)\n",
    "dataframe"
   ]
  },
  {
   "cell_type": "code",
   "execution_count": null,
   "id": "44851c71-b4b5-4214-8977-2d214035ae01",
   "metadata": {},
   "outputs": [],
   "source": [
    "row_1 = dataframe.loc[0]  # Access the entire row with label 1\n",
    "row_1"
   ]
  },
  {
   "cell_type": "code",
   "execution_count": null,
   "id": "4461ef49-6ffa-433a-a23c-28260dd8fc9c",
   "metadata": {},
   "outputs": [],
   "source": [
    "element_0_1 = dataframe.loc[0, 1]  # Access element at row 0, column '1'\n",
    "element_0_1"
   ]
  },
  {
   "cell_type": "code",
   "execution_count": null,
   "id": "a042f682-8e87-4cc7-adbe-0e1fe33a6720",
   "metadata": {},
   "outputs": [],
   "source": []
  },
  {
   "cell_type": "code",
   "execution_count": null,
   "id": "bc72b035-b6ee-4d11-af21-c1a841438a76",
   "metadata": {},
   "outputs": [],
   "source": [
    "df = pd.read_csv('countries_of_the_world.csv')\n",
    "df.head()"
   ]
  },
  {
   "cell_type": "code",
   "execution_count": null,
   "id": "1efe8922-e7da-47b8-9808-9428fbb8d801",
   "metadata": {},
   "outputs": [],
   "source": [
    "df.tail()"
   ]
  },
  {
   "cell_type": "code",
   "execution_count": null,
   "id": "d0fef66e-614c-4b4b-bae5-3d6d5692f5f6",
   "metadata": {},
   "outputs": [],
   "source": [
    "element_0_1 = df.loc[1]  # Access element at row 0, column '1'\n",
    "element_0_1"
   ]
  },
  {
   "cell_type": "code",
   "execution_count": null,
   "id": "c357e8f8-3df0-4a82-8e7f-b7a168a96115",
   "metadata": {},
   "outputs": [],
   "source": [
    "df2=pd.read_csv('world_population.csv')\n",
    "df2"
   ]
  },
  {
   "cell_type": "code",
   "execution_count": null,
   "id": "ab5b90cf-78ab-49d2-ac85-8dbaa8b12857",
   "metadata": {},
   "outputs": [],
   "source": [
    "df2[df2['Rank'] <= 10]\n"
   ]
  },
  {
   "cell_type": "code",
   "execution_count": null,
   "id": "58a5a449-d6b1-4286-8d2f-1d9d2687ac88",
   "metadata": {},
   "outputs": [],
   "source": [
    "specific_countries = ['Bangladesh','Brazil']\n",
    "\n",
    "df2[df2['Country'].isin(specific_countries)]\n"
   ]
  },
  {
   "cell_type": "code",
   "execution_count": null,
   "id": "16f0f971-10ef-4c26-aad9-469c2b3000df",
   "metadata": {},
   "outputs": [],
   "source": [
    "df2[df2['Country'].str.contains('United')]\n"
   ]
  },
  {
   "cell_type": "code",
   "execution_count": null,
   "id": "e4b277be-cc73-4db5-9728-1ce2134a9419",
   "metadata": {},
   "outputs": [],
   "source": [
    "numpy_array_method = df2.head().to_numpy()\n",
    "numpy_array_method"
   ]
  },
  {
   "cell_type": "code",
   "execution_count": null,
   "id": "baf5b8b5-2180-457e-a501-1da9c1f0afd8",
   "metadata": {},
   "outputs": [],
   "source": [
    "df2.columns"
   ]
  },
  {
   "cell_type": "code",
   "execution_count": null,
   "id": "86d23484-ad75-4bd6-a200-6596aec91b57",
   "metadata": {
    "scrolled": true
   },
   "outputs": [],
   "source": [
    "sorted_data = df2.sort_values(by='2022 Population', ascending=False)\n",
    "sorted_data"
   ]
  },
  {
   "cell_type": "code",
   "execution_count": null,
   "id": "2b0af03c-8fb8-4a59-a5a5-a01d3785db2f",
   "metadata": {},
   "outputs": [],
   "source": [
    "row1 = df2.iloc[0]  # Selects the first row\n",
    "row1"
   ]
  },
  {
   "cell_type": "code",
   "execution_count": null,
   "id": "81635c37-0fb9-4106-8c56-4d65bd8ca54a",
   "metadata": {},
   "outputs": [],
   "source": []
  },
  {
   "cell_type": "code",
   "execution_count": null,
   "id": "996adbd3-53c8-4762-ad42-fed175cf7d4b",
   "metadata": {},
   "outputs": [],
   "source": [
    "row1_5 = df2.iloc[1:5]  # Selects rows 2 to 4 (exclusive)\n",
    "row1_5"
   ]
  },
  {
   "cell_type": "code",
   "execution_count": null,
   "id": "9d0945d4-996c-4112-985d-17c477d1412e",
   "metadata": {},
   "outputs": [],
   "source": [
    "column3 = df2.iloc[:, 2]  # Selects the third column\n",
    "column3"
   ]
  },
  {
   "cell_type": "code",
   "execution_count": null,
   "id": "7c772fbb-c906-4eae-b072-ab58e6cdbd37",
   "metadata": {
    "scrolled": true
   },
   "outputs": [],
   "source": [
    "import matplotlib.pyplot as plt\n",
    "\n",
    "countries = df2.iloc[:, 2]#DataFrame.iloc[row_indices, column_indices]\n",
    "\n",
    "population = df2.iloc[:, 5]\n",
    "\n",
    "plt.figure(figsize=(10, 6))\n",
    "plt.bar(countries, population, color='skyblue')\n",
    "plt.xlabel('Country')\n",
    "plt.ylabel('2022 Population')\n",
    "plt.title('Population by Country')\n",
    "plt.xticks(rotation=45, ha='right')\n",
    "plt.show()\n"
   ]
  },
  {
   "cell_type": "code",
   "execution_count": null,
   "id": "6d907b32-0244-4445-ae69-f6869c3f024c",
   "metadata": {},
   "outputs": [],
   "source": [
    "continent_population = df2.groupby('Continent')['2022 Population'].sum()\n",
    "print(\"Continent-wise Population:\\n\", continent_population)\n"
   ]
  },
  {
   "cell_type": "code",
   "execution_count": null,
   "id": "ecefe85d-bfff-4ef6-a26c-2acd691cab94",
   "metadata": {},
   "outputs": [],
   "source": [
    "df2['Percentage of World Population'] = (df2['2022 Population'] / df2['World Population Percentage']) * 100\n"
   ]
  },
  {
   "cell_type": "code",
   "execution_count": null,
   "id": "2483b1f4-f1d9-4dbd-a20e-deed5adf845b",
   "metadata": {},
   "outputs": [],
   "source": [
    "plt.figure(figsize=(10, 6))\n",
    "continent_population.plot(kind='bar', color='skyblue')\n",
    "plt.title('Continent-wise Total Population in 2022')\n",
    "plt.xlabel('Continent')\n",
    "plt.ylabel('Total Population')\n",
    "plt.show()\n"
   ]
  },
  {
   "cell_type": "code",
   "execution_count": null,
   "id": "66c48484-225c-4e8a-ad39-9c1d2748ad1f",
   "metadata": {},
   "outputs": [],
   "source": [
    "import matplotlib.pyplot as plt\n",
    "\n",
    "# Assuming 'Continent' is a column in your DataFrame\n",
    "continent_population = df2.groupby('Continent')['2022 Population'].sum()\n",
    "\n",
    "plt.figure(figsize=(8, 8))\n",
    "plt.pie(continent_population, labels=continent_population.index, autopct='%1.1f%%', startangle=140, colors=['gold', 'lightcoral', 'lightgreen', 'lightskyblue', 'lightpink'])\n",
    "plt.title('Continent-wise Population Distribution in 2022')\n",
    "plt.show()\n"
   ]
  },
  {
   "cell_type": "code",
   "execution_count": null,
   "id": "f2736d2a-a36d-403b-be7a-7f448dca9afc",
   "metadata": {},
   "outputs": [],
   "source": [
    "top_n = 5  # Change this to the desired number\n",
    "top_countries = df2.nlargest(top_n, '2022 Population')[['Country', '2022 Population']]\n",
    "print(f'Top {top_n} Populated Countries in 2022:\\n', top_countries)\n"
   ]
  },
  {
   "cell_type": "code",
   "execution_count": null,
   "id": "d29ee7db-8be3-4625-99aa-9ec8c93b4054",
   "metadata": {},
   "outputs": [],
   "source": [
    "smallest_countries = df2.nsmallest(5, '2022 Population')[['Country', '2022 Population']]\n",
    "print(\"Smallest Countries According to Population in 2022:\\n\", )\n",
    "smallest_countries\n"
   ]
  },
  {
   "cell_type": "code",
   "execution_count": null,
   "id": "3e8a5359-6457-4840-a555-c29d2232d439",
   "metadata": {},
   "outputs": [],
   "source": [
    "top_growth_rate_n = 5  # Change this to the desired number\n",
    "top_growth_rate_countries = df2.nlargest(top_growth_rate_n, 'Growth Rate')[['Country', 'Growth Rate']]\n",
    "print(f'Top {top_growth_rate_n} Countries with Highest Growth Rate in 2022:\\n', )\n",
    "top_growth_rate_countries"
   ]
  },
  {
   "cell_type": "code",
   "execution_count": null,
   "id": "64c3251d-24b9-4e16-bc24-2b21ef4c4ead",
   "metadata": {},
   "outputs": [],
   "source": [
    "largest_by_continent = df2.loc[df2.groupby('Continent')['2022 Population'].idxmax(), ['Continent', 'Country', '2022 Population']]\n",
    "print('Largest Populated Country in Each Continent:')\n",
    "largest_by_continent"
   ]
  },
  {
   "cell_type": "code",
   "execution_count": null,
   "id": "90cb3750-c8c6-4e88-bcb9-bb0e0322f836",
   "metadata": {},
   "outputs": [],
   "source": [
    "top5_by_continent = df2.groupby('Continent').apply(lambda x: x.nlargest(5, '2022 Population')).reset_index(drop=True)\n",
    "print(\"Top 5 Largest Populated Countries in Each Continent:\\n\",)\n",
    "top5_by_continent[['Continent', 'Country', '2022 Population']]"
   ]
  },
  {
   "cell_type": "markdown",
   "id": "c3f2828f-e10d-43fe-8aed-5b8115e3ff0b",
   "metadata": {},
   "source": [
    "The idxmin method in pandas is used to find the index of the first occurrence of the minimum value in a Series. It returns the index label of the first occurrence where the minimum value is found.\r\n",
    "\r\n"
   ]
  },
  {
   "cell_type": "code",
   "execution_count": null,
   "id": "784e7916-43b2-477e-a73d-01b75f8219c0",
   "metadata": {},
   "outputs": [],
   "source": [
    "\n",
    "least_by_continent = df2.loc[df2.groupby('Continent')['2022 Population'].idxmin(), ['Continent', 'Country', '2022 Population']]\n",
    "print(\"Least Populated Country in Each Continent:\\n\", )\n",
    "least_by_continent"
   ]
  },
  {
   "cell_type": "markdown",
   "id": "b2999d5c-10b5-4ec1-ba0a-1e8dcc1a682d",
   "metadata": {},
   "source": [
    "When you perform operations like grouping in pandas, it often results in a new DataFrame with a hierarchical index, which is a multi-level index based on the grouping columns. The reset_index method is then used to remove this hierarchical index and revert to the default integer index."
   ]
  },
  {
   "cell_type": "code",
   "execution_count": null,
   "id": "71356fcc-b635-46ef-9ef3-0fefc507c41e",
   "metadata": {},
   "outputs": [],
   "source": [
    "least5_by_continent = df2.groupby('Continent').apply(lambda x: x.nsmallest(5, '2022 Population')).reset_index(drop=True)\n",
    "print(\"Least Populated Countries in Each Continent:\\n\", )\n",
    "least5_by_continent[['Continent', 'Country', '2022 Population']]"
   ]
  },
  {
   "cell_type": "code",
   "execution_count": null,
   "id": "6c9a8857-17f3-4ae3-8e15-24a00f98062e",
   "metadata": {},
   "outputs": [],
   "source": []
  },
  {
   "cell_type": "code",
   "execution_count": null,
   "id": "1be724c1-0d7e-46c7-85b6-2a1d97b15c49",
   "metadata": {},
   "outputs": [],
   "source": []
  },
  {
   "cell_type": "code",
   "execution_count": null,
   "id": "db3dfff6-3062-4386-a0b5-a2b5201f51ba",
   "metadata": {},
   "outputs": [],
   "source": []
  },
  {
   "cell_type": "code",
   "execution_count": null,
   "id": "7b9b4e36-7f29-4b77-ab38-506094f1ccef",
   "metadata": {},
   "outputs": [],
   "source": []
  }
 ],
 "metadata": {
  "kernelspec": {
   "display_name": "Python 3 (ipykernel)",
   "language": "python",
   "name": "python3"
  },
  "language_info": {
   "codemirror_mode": {
    "name": "ipython",
    "version": 3
   },
   "file_extension": ".py",
   "mimetype": "text/x-python",
   "name": "python",
   "nbconvert_exporter": "python",
   "pygments_lexer": "ipython3",
   "version": "3.11.1"
  }
 },
 "nbformat": 4,
 "nbformat_minor": 5
}
