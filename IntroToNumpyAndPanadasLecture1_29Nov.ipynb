{
 "cells": [
  {
   "cell_type": "markdown",
   "id": "3a585375-602e-4583-96c1-21a4bbb2739e",
   "metadata": {},
   "source": [
    "\n",
    "# Introduction to NumPy and Pandas"
   ]
  },
  {
   "cell_type": "markdown",
   "id": "d2b8608d-a9a3-4b12-9536-d48fce950329",
   "metadata": {},
   "source": [
    "### What is NumPy?\n",
    "- NumPy stands for Numerical Python.\n",
    "- It is a powerful library for numerical and matrix operations in Python.\n",
    "### Key Features:\n",
    "- Multi-dimensional arrays.\n",
    "- Mathematical functions for operating on these arrays.\n",
    "\n",
    "## Importing NumPy:"
   ]
  },
  {
   "cell_type": "code",
   "execution_count": 4,
   "id": "7fb39e27-b918-408c-b5fd-33ace62020d9",
   "metadata": {},
   "outputs": [],
   "source": [
    "# pip install numpy"
   ]
  },
  {
   "cell_type": "code",
   "execution_count": 6,
   "id": "ad47e569-5575-406c-ab7c-bab78af95a3f",
   "metadata": {},
   "outputs": [],
   "source": [
    "import numpy as np\n"
   ]
  },
  {
   "cell_type": "code",
   "execution_count": 48,
   "id": "4213b2c6-5f1e-4677-8282-779385cf767e",
   "metadata": {},
   "outputs": [],
   "source": [
    "list_a=['a','b','c','d','e','f']\n",
    "arr_from_list_a = np.array(list_a)\n",
    "\n"
   ]
  },
  {
   "cell_type": "code",
   "execution_count": 9,
   "id": "d79b0b9a-101f-4b2f-b518-a086fe457dce",
   "metadata": {},
   "outputs": [
    {
     "name": "stdout",
     "output_type": "stream",
     "text": [
      "['a' 'b' 'c' 'd' 'e' 'f']\n"
     ]
    }
   ],
   "source": [
    "print(arr_from_list)"
   ]
  },
  {
   "cell_type": "code",
   "execution_count": 14,
   "id": "85ec4914-3aaf-4958-88d0-16b047765ee2",
   "metadata": {},
   "outputs": [
    {
     "data": {
      "text/plain": [
       "6"
      ]
     },
     "execution_count": 14,
     "metadata": {},
     "output_type": "execute_result"
    }
   ],
   "source": [
    "len(arr_from_list)"
   ]
  },
  {
   "cell_type": "code",
   "execution_count": 25,
   "id": "2dc98be1-dcc7-4efc-9002-eb16ca82649d",
   "metadata": {},
   "outputs": [
    {
     "data": {
      "text/plain": [
       "array([[0., 0., 0.]])"
      ]
     },
     "execution_count": 25,
     "metadata": {},
     "output_type": "execute_result"
    }
   ],
   "source": [
    "arr_zeros = np.zeros((1,3))\n",
    "arr_zeros"
   ]
  },
  {
   "cell_type": "code",
   "execution_count": 22,
   "id": "690124b6-3f86-470a-8238-26286a15ae90",
   "metadata": {},
   "outputs": [
    {
     "data": {
      "text/plain": [
       "array([[1., 1., 1., 1.]])"
      ]
     },
     "execution_count": 22,
     "metadata": {},
     "output_type": "execute_result"
    }
   ],
   "source": [
    "arr_ones = np.ones((1, 4))\n",
    "arr_ones"
   ]
  },
  {
   "cell_type": "markdown",
   "id": "20dcf441-17f2-497e-8394-743c7861d398",
   "metadata": {},
   "source": [
    "- np.arange excludes the stop value from the generated array.\n"
   ]
  },
  {
   "cell_type": "code",
   "execution_count": 34,
   "id": "56ac1f15-4697-4e66-83c9-bd9a14a5d106",
   "metadata": {},
   "outputs": [
    {
     "data": {
      "text/plain": [
       "array([ 0,  1,  2,  3,  4,  5,  6,  7,  8,  9, 10])"
      ]
     },
     "execution_count": 34,
     "metadata": {},
     "output_type": "execute_result"
    }
   ],
   "source": [
    "np.arange(0, 11)"
   ]
  },
  {
   "cell_type": "code",
   "execution_count": 39,
   "id": "2c161602-c716-40e2-9535-83823bb70760",
   "metadata": {},
   "outputs": [
    {
     "data": {
      "text/plain": [
       "array([ 0,  5, 10, 15, 20, 25, 30, 35, 40, 45])"
      ]
     },
     "execution_count": 39,
     "metadata": {},
     "output_type": "execute_result"
    }
   ],
   "source": [
    "arr_range = np.arange(0, 50,5)  # Generates an array with values from 0 to 50 (exclusive) with a step of 5\n",
    "arr_range"
   ]
  },
  {
   "cell_type": "markdown",
   "id": "98bbfeb5-f29c-4fe2-b29b-b61a954c8f15",
   "metadata": {},
   "source": [
    "In this example, np.arange(0, 50, 5) generates an array starting from 0, incrementing by 2, and stopping before 10. Notice that the stop value (10) is not included in the output array.\n",
    "\n"
   ]
  },
  {
   "cell_type": "code",
   "execution_count": 47,
   "id": "fea933f7-9a21-45bb-88a7-758acdc7dc83",
   "metadata": {},
   "outputs": [
    {
     "data": {
      "text/plain": [
       "array([  0.,  25.,  50.,  75., 100.])"
      ]
     },
     "execution_count": 47,
     "metadata": {},
     "output_type": "execute_result"
    }
   ],
   "source": [
    "arr_linspace = np.linspace(0, 100,5)  # Generates an array with 5 values evenly spaced between 0 and 100\n",
    "arr_linspace"
   ]
  },
  {
   "cell_type": "markdown",
   "id": "a163a029-eb07-46cd-8cb2-bcc7f8d30140",
   "metadata": {},
   "source": [
    "In this example, np.linspace(0, 100, 5) generates an array with 5 evenly spaced values between 0 and 1 (inclusive). The endpoint=True by default, so the stop value (1) is included in the output array.\n",
    "\n",
    "`"
   ]
  },
  {
   "cell_type": "markdown",
   "id": "cc3d4aee-d596-4d8c-93cf-f33f7a09a770",
   "metadata": {},
   "source": [
    "### Array Operation"
   ]
  },
  {
   "cell_type": "raw",
   "id": "ad70de76-af6e-4a53-b0e6-942af536e4e9",
   "metadata": {},
   "source": []
  },
  {
   "cell_type": "code",
   "execution_count": 52,
   "id": "4ed2d54e-4a55-4960-8ebf-32e1f4da5fe5",
   "metadata": {},
   "outputs": [
    {
     "data": {
      "text/plain": [
       "array([1, 2, 3, 4, 5])"
      ]
     },
     "execution_count": 52,
     "metadata": {},
     "output_type": "execute_result"
    }
   ],
   "source": [
    "list_b=[1,2,3,4,5]\n",
    "arr_from_list= np.array(list_b)\n",
    "arr_from_list"
   ]
  },
  {
   "cell_type": "code",
   "execution_count": 55,
   "id": "004a5054-cdb9-499f-adc8-4ea6bcf98a72",
   "metadata": {},
   "outputs": [
    {
     "data": {
      "text/plain": [
       "array([11, 12, 13, 14, 15])"
      ]
     },
     "execution_count": 55,
     "metadata": {},
     "output_type": "execute_result"
    }
   ],
   "source": [
    "arr_addition = arr_from_list + 10  # Adds 10 to each element of the array\n",
    "arr_addition"
   ]
  },
  {
   "cell_type": "code",
   "execution_count": 57,
   "id": "761b0516-6996-40df-bbed-1e65043fc78d",
   "metadata": {},
   "outputs": [
    {
     "data": {
      "text/plain": [
       "array([ 2,  4,  6,  8, 10])"
      ]
     },
     "execution_count": 57,
     "metadata": {},
     "output_type": "execute_result"
    }
   ],
   "source": [
    "arr_multiply = arr_from_list * 2  # Multiplies each element of the array by 2\n",
    "arr_multiply"
   ]
  },
  {
   "cell_type": "code",
   "execution_count": 58,
   "id": "a916f3da-8bb2-404a-b182-ccf5bea66691",
   "metadata": {},
   "outputs": [
    {
     "data": {
      "text/plain": [
       "array([ 1,  4,  9, 16, 25])"
      ]
     },
     "execution_count": 58,
     "metadata": {},
     "output_type": "execute_result"
    }
   ],
   "source": [
    "arr_square = np.square(arr_from_list)  # Calculates the element-wise square of the array\n",
    "arr_square"
   ]
  },
  {
   "cell_type": "code",
   "execution_count": null,
   "id": "2c07b898-66e0-4042-a767-89790e6b66c4",
   "metadata": {},
   "outputs": [],
   "source": []
  },
  {
   "cell_type": "markdown",
   "id": "e9ce0dbd-1a40-4c1c-8e78-25053a0cc0e0",
   "metadata": {},
   "source": [
    "### Random Values"
   ]
  },
  {
   "cell_type": "code",
   "execution_count": 70,
   "id": "43735c37-407c-464d-90b4-f0afe5b59de6",
   "metadata": {},
   "outputs": [
    {
     "data": {
      "text/plain": [
       "array([[0.97831609, 0.3151603 , 0.29085362]])"
      ]
     },
     "execution_count": 70,
     "metadata": {},
     "output_type": "execute_result"
    }
   ],
   "source": [
    "random_arr = np.random.rand(1, 3)  # Generates random values in a 1 d array from a uniform distribution over [0, 1)\n",
    "random_arr"
   ]
  },
  {
   "cell_type": "code",
   "execution_count": 72,
   "id": "c05cfba8-fcc6-45d9-a787-0393c58ee8d8",
   "metadata": {},
   "outputs": [
    {
     "data": {
      "text/plain": [
       "array([[ 2,  9,  0,  6,  4,  8,  5,  3, -2,  9,  2,  8,  1,  4,  1,  3,\n",
       "         0,  7,  7, 10,  5,  1,  3,  3,  8,  3,  6,  8,  2,  0,  3]])"
      ]
     },
     "execution_count": 72,
     "metadata": {},
     "output_type": "execute_result"
    }
   ],
   "source": [
    "random_integers = np.random.randint(-2, 11, size=(1, 31))  # Generates random integers between 1 and 100 in a 1d array\n",
    "random_integers"
   ]
  },
  {
   "cell_type": "markdown",
   "id": "173d0f0e-1e6c-4be3-902b-eed967bdde17",
   "metadata": {},
   "source": [
    "## Pandas "
   ]
  },
  {
   "cell_type": "markdown",
   "id": "ff97d912-d67d-4a4c-af35-dcfe232699e3",
   "metadata": {},
   "source": [
    "### What is Pandas?\n",
    "- Pandas is an open-source data manipulation and analysis library for Python.\n",
    "- It provides data structures like Series and DataFrame for working with structured data.\n"
   ]
  },
  {
   "cell_type": "code",
   "execution_count": 74,
   "id": "a316fb31-fcf9-4d7b-a88b-8421281d61b9",
   "metadata": {},
   "outputs": [
    {
     "data": {
      "text/plain": [
       "{'StudyHour': [2, 4, 1, 2.5, 4], 'Score': [85, 92, 78, 89, 95]}"
      ]
     },
     "execution_count": 74,
     "metadata": {},
     "output_type": "execute_result"
    }
   ],
   "source": [
    "import pandas as pd\n",
    "\n",
    "# Creating a Pandas DataFrame\n",
    "data = {\n",
    "    \n",
    "    'StudyHour': [2, 4, 1, 2.5, 4],\n",
    "    'Score': [85, 92, 78, 89, 95]\n",
    "}\n",
    "\n",
    "data"
   ]
  },
  {
   "cell_type": "code",
   "execution_count": 75,
   "id": "978830a6-d31f-4db9-9f43-bf47104ba4b9",
   "metadata": {},
   "outputs": [
    {
     "data": {
      "text/html": [
       "<div>\n",
       "<style scoped>\n",
       "    .dataframe tbody tr th:only-of-type {\n",
       "        vertical-align: middle;\n",
       "    }\n",
       "\n",
       "    .dataframe tbody tr th {\n",
       "        vertical-align: top;\n",
       "    }\n",
       "\n",
       "    .dataframe thead th {\n",
       "        text-align: right;\n",
       "    }\n",
       "</style>\n",
       "<table border=\"1\" class=\"dataframe\">\n",
       "  <thead>\n",
       "    <tr style=\"text-align: right;\">\n",
       "      <th></th>\n",
       "      <th>StudyHour</th>\n",
       "      <th>Score</th>\n",
       "    </tr>\n",
       "  </thead>\n",
       "  <tbody>\n",
       "    <tr>\n",
       "      <th>0</th>\n",
       "      <td>2.0</td>\n",
       "      <td>85</td>\n",
       "    </tr>\n",
       "    <tr>\n",
       "      <th>1</th>\n",
       "      <td>4.0</td>\n",
       "      <td>92</td>\n",
       "    </tr>\n",
       "    <tr>\n",
       "      <th>2</th>\n",
       "      <td>1.0</td>\n",
       "      <td>78</td>\n",
       "    </tr>\n",
       "    <tr>\n",
       "      <th>3</th>\n",
       "      <td>2.5</td>\n",
       "      <td>89</td>\n",
       "    </tr>\n",
       "    <tr>\n",
       "      <th>4</th>\n",
       "      <td>4.0</td>\n",
       "      <td>95</td>\n",
       "    </tr>\n",
       "  </tbody>\n",
       "</table>\n",
       "</div>"
      ],
      "text/plain": [
       "   StudyHour  Score\n",
       "0        2.0     85\n",
       "1        4.0     92\n",
       "2        1.0     78\n",
       "3        2.5     89\n",
       "4        4.0     95"
      ]
     },
     "execution_count": 75,
     "metadata": {},
     "output_type": "execute_result"
    }
   ],
   "source": [
    "\n",
    "df = pd.DataFrame(data)  # Creates a Pandas DataFrame from a dictionary\n",
    "df"
   ]
  },
  {
   "cell_type": "code",
   "execution_count": 81,
   "id": "448e1cf9-adca-4c7f-9709-1d17bda28cf8",
   "metadata": {},
   "outputs": [
    {
     "data": {
      "text/plain": [
       "array([2, 4, 4, 6, 7, 2, 4, 4, 5, 1, 2, 2, 7, 5, 3, 1, 6, 2, 2, 3, 7, 6,\n",
       "       3, 5, 3, 7, 7, 1, 3, 6, 5, 3, 3, 6, 2, 2, 2, 2, 7, 7, 6, 4, 6, 6,\n",
       "       4, 3, 5, 5, 6, 4])"
      ]
     },
     "execution_count": 81,
     "metadata": {},
     "output_type": "execute_result"
    }
   ],
   "source": [
    "study_hours=np.random.randint(1, 8, 50)\n",
    "study_hours"
   ]
  },
  {
   "cell_type": "code",
   "execution_count": 82,
   "id": "e3f871c5-2dcd-4716-bd91-d8950fb8ebcb",
   "metadata": {},
   "outputs": [
    {
     "data": {
      "text/plain": [
       "array([73, 71, 95, 78, 91, 91, 81, 90, 56, 53, 60, 71, 41, 86, 72, 63, 93,\n",
       "       98, 51, 86, 83, 45, 82, 42, 74, 81, 46, 40, 84, 46, 87, 67, 76, 68,\n",
       "       41, 85, 67, 77, 68, 43, 67, 88, 61, 72, 93, 81, 86, 66, 98, 83])"
      ]
     },
     "execution_count": 82,
     "metadata": {},
     "output_type": "execute_result"
    }
   ],
   "source": [
    "_scores=np.random.randint(40, 100, 50)\n",
    "_scores"
   ]
  },
  {
   "cell_type": "code",
   "execution_count": 83,
   "id": "f4006229-3470-46cf-8b58-7f5798f02fbf",
   "metadata": {},
   "outputs": [
    {
     "data": {
      "text/plain": [
       "{'Study Hours': array([2, 4, 4, 6, 7, 2, 4, 4, 5, 1, 2, 2, 7, 5, 3, 1, 6, 2, 2, 3, 7, 6,\n",
       "        3, 5, 3, 7, 7, 1, 3, 6, 5, 3, 3, 6, 2, 2, 2, 2, 7, 7, 6, 4, 6, 6,\n",
       "        4, 3, 5, 5, 6, 4]),\n",
       " 'Score': array([73, 71, 95, 78, 91, 91, 81, 90, 56, 53, 60, 71, 41, 86, 72, 63, 93,\n",
       "        98, 51, 86, 83, 45, 82, 42, 74, 81, 46, 40, 84, 46, 87, 67, 76, 68,\n",
       "        41, 85, 67, 77, 68, 43, 67, 88, 61, 72, 93, 81, 86, 66, 98, 83])}"
      ]
     },
     "execution_count": 83,
     "metadata": {},
     "output_type": "execute_result"
    }
   ],
   "source": [
    "data_exams = {\n",
    "    'Study Hours': study_hours,  # Random decimal study hours between 1 and 10\n",
    "    'Score':   _scores      # Random integer scores between 40 and 100\n",
    "}\n",
    "data_exams"
   ]
  },
  {
   "cell_type": "code",
   "execution_count": 84,
   "id": "c49cee06-bad5-42ed-b983-195c4354a254",
   "metadata": {},
   "outputs": [
    {
     "data": {
      "text/html": [
       "<div>\n",
       "<style scoped>\n",
       "    .dataframe tbody tr th:only-of-type {\n",
       "        vertical-align: middle;\n",
       "    }\n",
       "\n",
       "    .dataframe tbody tr th {\n",
       "        vertical-align: top;\n",
       "    }\n",
       "\n",
       "    .dataframe thead th {\n",
       "        text-align: right;\n",
       "    }\n",
       "</style>\n",
       "<table border=\"1\" class=\"dataframe\">\n",
       "  <thead>\n",
       "    <tr style=\"text-align: right;\">\n",
       "      <th></th>\n",
       "      <th>Study Hours</th>\n",
       "      <th>Score</th>\n",
       "    </tr>\n",
       "  </thead>\n",
       "  <tbody>\n",
       "    <tr>\n",
       "      <th>0</th>\n",
       "      <td>2</td>\n",
       "      <td>73</td>\n",
       "    </tr>\n",
       "    <tr>\n",
       "      <th>1</th>\n",
       "      <td>4</td>\n",
       "      <td>71</td>\n",
       "    </tr>\n",
       "    <tr>\n",
       "      <th>2</th>\n",
       "      <td>4</td>\n",
       "      <td>95</td>\n",
       "    </tr>\n",
       "    <tr>\n",
       "      <th>3</th>\n",
       "      <td>6</td>\n",
       "      <td>78</td>\n",
       "    </tr>\n",
       "    <tr>\n",
       "      <th>4</th>\n",
       "      <td>7</td>\n",
       "      <td>91</td>\n",
       "    </tr>\n",
       "    <tr>\n",
       "      <th>5</th>\n",
       "      <td>2</td>\n",
       "      <td>91</td>\n",
       "    </tr>\n",
       "    <tr>\n",
       "      <th>6</th>\n",
       "      <td>4</td>\n",
       "      <td>81</td>\n",
       "    </tr>\n",
       "    <tr>\n",
       "      <th>7</th>\n",
       "      <td>4</td>\n",
       "      <td>90</td>\n",
       "    </tr>\n",
       "    <tr>\n",
       "      <th>8</th>\n",
       "      <td>5</td>\n",
       "      <td>56</td>\n",
       "    </tr>\n",
       "    <tr>\n",
       "      <th>9</th>\n",
       "      <td>1</td>\n",
       "      <td>53</td>\n",
       "    </tr>\n",
       "    <tr>\n",
       "      <th>10</th>\n",
       "      <td>2</td>\n",
       "      <td>60</td>\n",
       "    </tr>\n",
       "    <tr>\n",
       "      <th>11</th>\n",
       "      <td>2</td>\n",
       "      <td>71</td>\n",
       "    </tr>\n",
       "    <tr>\n",
       "      <th>12</th>\n",
       "      <td>7</td>\n",
       "      <td>41</td>\n",
       "    </tr>\n",
       "    <tr>\n",
       "      <th>13</th>\n",
       "      <td>5</td>\n",
       "      <td>86</td>\n",
       "    </tr>\n",
       "    <tr>\n",
       "      <th>14</th>\n",
       "      <td>3</td>\n",
       "      <td>72</td>\n",
       "    </tr>\n",
       "    <tr>\n",
       "      <th>15</th>\n",
       "      <td>1</td>\n",
       "      <td>63</td>\n",
       "    </tr>\n",
       "    <tr>\n",
       "      <th>16</th>\n",
       "      <td>6</td>\n",
       "      <td>93</td>\n",
       "    </tr>\n",
       "    <tr>\n",
       "      <th>17</th>\n",
       "      <td>2</td>\n",
       "      <td>98</td>\n",
       "    </tr>\n",
       "    <tr>\n",
       "      <th>18</th>\n",
       "      <td>2</td>\n",
       "      <td>51</td>\n",
       "    </tr>\n",
       "    <tr>\n",
       "      <th>19</th>\n",
       "      <td>3</td>\n",
       "      <td>86</td>\n",
       "    </tr>\n",
       "    <tr>\n",
       "      <th>20</th>\n",
       "      <td>7</td>\n",
       "      <td>83</td>\n",
       "    </tr>\n",
       "    <tr>\n",
       "      <th>21</th>\n",
       "      <td>6</td>\n",
       "      <td>45</td>\n",
       "    </tr>\n",
       "    <tr>\n",
       "      <th>22</th>\n",
       "      <td>3</td>\n",
       "      <td>82</td>\n",
       "    </tr>\n",
       "    <tr>\n",
       "      <th>23</th>\n",
       "      <td>5</td>\n",
       "      <td>42</td>\n",
       "    </tr>\n",
       "    <tr>\n",
       "      <th>24</th>\n",
       "      <td>3</td>\n",
       "      <td>74</td>\n",
       "    </tr>\n",
       "    <tr>\n",
       "      <th>25</th>\n",
       "      <td>7</td>\n",
       "      <td>81</td>\n",
       "    </tr>\n",
       "    <tr>\n",
       "      <th>26</th>\n",
       "      <td>7</td>\n",
       "      <td>46</td>\n",
       "    </tr>\n",
       "    <tr>\n",
       "      <th>27</th>\n",
       "      <td>1</td>\n",
       "      <td>40</td>\n",
       "    </tr>\n",
       "    <tr>\n",
       "      <th>28</th>\n",
       "      <td>3</td>\n",
       "      <td>84</td>\n",
       "    </tr>\n",
       "    <tr>\n",
       "      <th>29</th>\n",
       "      <td>6</td>\n",
       "      <td>46</td>\n",
       "    </tr>\n",
       "    <tr>\n",
       "      <th>30</th>\n",
       "      <td>5</td>\n",
       "      <td>87</td>\n",
       "    </tr>\n",
       "    <tr>\n",
       "      <th>31</th>\n",
       "      <td>3</td>\n",
       "      <td>67</td>\n",
       "    </tr>\n",
       "    <tr>\n",
       "      <th>32</th>\n",
       "      <td>3</td>\n",
       "      <td>76</td>\n",
       "    </tr>\n",
       "    <tr>\n",
       "      <th>33</th>\n",
       "      <td>6</td>\n",
       "      <td>68</td>\n",
       "    </tr>\n",
       "    <tr>\n",
       "      <th>34</th>\n",
       "      <td>2</td>\n",
       "      <td>41</td>\n",
       "    </tr>\n",
       "    <tr>\n",
       "      <th>35</th>\n",
       "      <td>2</td>\n",
       "      <td>85</td>\n",
       "    </tr>\n",
       "    <tr>\n",
       "      <th>36</th>\n",
       "      <td>2</td>\n",
       "      <td>67</td>\n",
       "    </tr>\n",
       "    <tr>\n",
       "      <th>37</th>\n",
       "      <td>2</td>\n",
       "      <td>77</td>\n",
       "    </tr>\n",
       "    <tr>\n",
       "      <th>38</th>\n",
       "      <td>7</td>\n",
       "      <td>68</td>\n",
       "    </tr>\n",
       "    <tr>\n",
       "      <th>39</th>\n",
       "      <td>7</td>\n",
       "      <td>43</td>\n",
       "    </tr>\n",
       "    <tr>\n",
       "      <th>40</th>\n",
       "      <td>6</td>\n",
       "      <td>67</td>\n",
       "    </tr>\n",
       "    <tr>\n",
       "      <th>41</th>\n",
       "      <td>4</td>\n",
       "      <td>88</td>\n",
       "    </tr>\n",
       "    <tr>\n",
       "      <th>42</th>\n",
       "      <td>6</td>\n",
       "      <td>61</td>\n",
       "    </tr>\n",
       "    <tr>\n",
       "      <th>43</th>\n",
       "      <td>6</td>\n",
       "      <td>72</td>\n",
       "    </tr>\n",
       "    <tr>\n",
       "      <th>44</th>\n",
       "      <td>4</td>\n",
       "      <td>93</td>\n",
       "    </tr>\n",
       "    <tr>\n",
       "      <th>45</th>\n",
       "      <td>3</td>\n",
       "      <td>81</td>\n",
       "    </tr>\n",
       "    <tr>\n",
       "      <th>46</th>\n",
       "      <td>5</td>\n",
       "      <td>86</td>\n",
       "    </tr>\n",
       "    <tr>\n",
       "      <th>47</th>\n",
       "      <td>5</td>\n",
       "      <td>66</td>\n",
       "    </tr>\n",
       "    <tr>\n",
       "      <th>48</th>\n",
       "      <td>6</td>\n",
       "      <td>98</td>\n",
       "    </tr>\n",
       "    <tr>\n",
       "      <th>49</th>\n",
       "      <td>4</td>\n",
       "      <td>83</td>\n",
       "    </tr>\n",
       "  </tbody>\n",
       "</table>\n",
       "</div>"
      ],
      "text/plain": [
       "    Study Hours  Score\n",
       "0             2     73\n",
       "1             4     71\n",
       "2             4     95\n",
       "3             6     78\n",
       "4             7     91\n",
       "5             2     91\n",
       "6             4     81\n",
       "7             4     90\n",
       "8             5     56\n",
       "9             1     53\n",
       "10            2     60\n",
       "11            2     71\n",
       "12            7     41\n",
       "13            5     86\n",
       "14            3     72\n",
       "15            1     63\n",
       "16            6     93\n",
       "17            2     98\n",
       "18            2     51\n",
       "19            3     86\n",
       "20            7     83\n",
       "21            6     45\n",
       "22            3     82\n",
       "23            5     42\n",
       "24            3     74\n",
       "25            7     81\n",
       "26            7     46\n",
       "27            1     40\n",
       "28            3     84\n",
       "29            6     46\n",
       "30            5     87\n",
       "31            3     67\n",
       "32            3     76\n",
       "33            6     68\n",
       "34            2     41\n",
       "35            2     85\n",
       "36            2     67\n",
       "37            2     77\n",
       "38            7     68\n",
       "39            7     43\n",
       "40            6     67\n",
       "41            4     88\n",
       "42            6     61\n",
       "43            6     72\n",
       "44            4     93\n",
       "45            3     81\n",
       "46            5     86\n",
       "47            5     66\n",
       "48            6     98\n",
       "49            4     83"
      ]
     },
     "execution_count": 84,
     "metadata": {},
     "output_type": "execute_result"
    }
   ],
   "source": [
    "\n",
    "df_exams = pd.DataFrame(data_exams)\n",
    "df_exams"
   ]
  }
 ],
 "metadata": {
  "kernelspec": {
   "display_name": "Python 3 (ipykernel)",
   "language": "python",
   "name": "python3"
  },
  "language_info": {
   "codemirror_mode": {
    "name": "ipython",
    "version": 3
   },
   "file_extension": ".py",
   "mimetype": "text/x-python",
   "name": "python",
   "nbconvert_exporter": "python",
   "pygments_lexer": "ipython3",
   "version": "3.11.1"
  }
 },
 "nbformat": 4,
 "nbformat_minor": 5
}
