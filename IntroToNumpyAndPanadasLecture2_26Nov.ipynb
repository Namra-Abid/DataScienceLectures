{
 "cells": [
  {
   "cell_type": "markdown",
   "id": "3a585375-602e-4583-96c1-21a4bbb2739e",
   "metadata": {},
   "source": [
    "\n",
    "# Introduction to NumPy and Pandas"
   ]
  },
  {
   "cell_type": "markdown",
   "id": "d2b8608d-a9a3-4b12-9536-d48fce950329",
   "metadata": {},
   "source": [
    "### What is NumPy?\n",
    "- NumPy stands for Numerical Python.\n",
    "- It is a powerful library for numerical and matrix operations in Python.\n",
    "### Key Features:\n",
    "- Multi-dimensional arrays.\n",
    "- Mathematical functions for operating on these arrays.\n",
    "\n",
    "## Importing NumPy:"
   ]
  },
  {
   "cell_type": "code",
   "execution_count": 168,
   "id": "7fb39e27-b918-408c-b5fd-33ace62020d9",
   "metadata": {},
   "outputs": [],
   "source": [
    "# pip install numpy"
   ]
  },
  {
   "cell_type": "code",
   "execution_count": 169,
   "id": "ad47e569-5575-406c-ab7c-bab78af95a3f",
   "metadata": {},
   "outputs": [],
   "source": [
    "import numpy as np\n"
   ]
  },
  {
   "cell_type": "code",
   "execution_count": 170,
   "id": "4213b2c6-5f1e-4677-8282-779385cf767e",
   "metadata": {},
   "outputs": [],
   "source": [
    "list_a=['a','b','c','d','e','f']\n",
    "arr_from_list_a = np.array(list_a)\n",
    "\n"
   ]
  },
  {
   "cell_type": "code",
   "execution_count": 171,
   "id": "d79b0b9a-101f-4b2f-b518-a086fe457dce",
   "metadata": {},
   "outputs": [
    {
     "name": "stdout",
     "output_type": "stream",
     "text": [
      "['a' 'b' 'c' 'd' 'e' 'f']\n"
     ]
    }
   ],
   "source": [
    "print(arr_from_list_a)"
   ]
  },
  {
   "cell_type": "code",
   "execution_count": 172,
   "id": "85ec4914-3aaf-4958-88d0-16b047765ee2",
   "metadata": {},
   "outputs": [
    {
     "data": {
      "text/plain": [
       "6"
      ]
     },
     "execution_count": 172,
     "metadata": {},
     "output_type": "execute_result"
    }
   ],
   "source": [
    "len(arr_from_list_a)"
   ]
  },
  {
   "cell_type": "code",
   "execution_count": 184,
   "id": "2dc98be1-dcc7-4efc-9002-eb16ca82649d",
   "metadata": {},
   "outputs": [
    {
     "data": {
      "text/plain": [
       "array([[0., 0., 0., 0.],\n",
       "       [0., 0., 0., 0.]])"
      ]
     },
     "execution_count": 184,
     "metadata": {},
     "output_type": "execute_result"
    }
   ],
   "source": [
    "arr_zeros = np.zeros((2,4))\n",
    "arr_zeros"
   ]
  },
  {
   "cell_type": "code",
   "execution_count": 185,
   "id": "690124b6-3f86-470a-8238-26286a15ae90",
   "metadata": {},
   "outputs": [
    {
     "data": {
      "text/plain": [
       "array([[1., 1., 1., 1.]])"
      ]
     },
     "execution_count": 185,
     "metadata": {},
     "output_type": "execute_result"
    }
   ],
   "source": [
    "arr_ones = np.ones((1, 4))\n",
    "arr_ones"
   ]
  },
  {
   "cell_type": "markdown",
   "id": "20dcf441-17f2-497e-8394-743c7861d398",
   "metadata": {},
   "source": [
    "- np.arange excludes the stop value from the generated array.\n"
   ]
  },
  {
   "cell_type": "code",
   "execution_count": 187,
   "id": "56ac1f15-4697-4e66-83c9-bd9a14a5d106",
   "metadata": {},
   "outputs": [
    {
     "data": {
      "text/plain": [
       "array([ 0,  1,  2,  3,  4,  5,  6,  7,  8,  9, 10, 11, 12, 13, 14, 15, 16,\n",
       "       17, 18, 19, 20, 21, 22, 23, 24, 25, 26, 27, 28, 29, 30, 31, 32, 33,\n",
       "       34, 35, 36, 37, 38, 39, 40, 41, 42, 43, 44, 45, 46, 47, 48, 49])"
      ]
     },
     "execution_count": 187,
     "metadata": {},
     "output_type": "execute_result"
    }
   ],
   "source": [
    "np.arange(0, 50) #[0-49]"
   ]
  },
  {
   "cell_type": "code",
   "execution_count": 188,
   "id": "2c161602-c716-40e2-9535-83823bb70760",
   "metadata": {},
   "outputs": [
    {
     "data": {
      "text/plain": [
       "array([ 0,  4,  8, 12, 16, 20, 24, 28, 32, 36, 40, 44, 48])"
      ]
     },
     "execution_count": 188,
     "metadata": {},
     "output_type": "execute_result"
    }
   ],
   "source": [
    "arr_range = np.arange(0, 50,4)  # Generates an array with values from 0 to 50 (exclusive) with a step of 5\n",
    "arr_range"
   ]
  },
  {
   "cell_type": "markdown",
   "id": "98bbfeb5-f29c-4fe2-b29b-b61a954c8f15",
   "metadata": {},
   "source": [
    "In this example, np.arange(0, 50, 5) generates an array starting from 0, incrementing by 2, and stopping before 10. Notice that the stop value (10) is not included in the output array.\n",
    "\n"
   ]
  },
  {
   "cell_type": "code",
   "execution_count": 189,
   "id": "fea933f7-9a21-45bb-88a7-758acdc7dc83",
   "metadata": {},
   "outputs": [
    {
     "data": {
      "text/plain": [
       "array([  0.,  25.,  50.,  75., 100.])"
      ]
     },
     "execution_count": 189,
     "metadata": {},
     "output_type": "execute_result"
    }
   ],
   "source": [
    "arr_linspace = np.linspace(0, 100,5)  # Generates an array with 5 values evenly spaced between 0 and 100\n",
    "arr_linspace"
   ]
  },
  {
   "cell_type": "markdown",
   "id": "a163a029-eb07-46cd-8cb2-bcc7f8d30140",
   "metadata": {},
   "source": [
    "In this example, np.linspace(0, 100, 5) generates an array with 5 evenly spaced values between 0 and 1 (inclusive). The endpoint=True by default, so the stop value (1) is included in the output array.\n",
    "\n",
    "`"
   ]
  },
  {
   "cell_type": "markdown",
   "id": "cc3d4aee-d596-4d8c-93cf-f33f7a09a770",
   "metadata": {},
   "source": [
    "### Array Operation"
   ]
  },
  {
   "cell_type": "raw",
   "id": "ad70de76-af6e-4a53-b0e6-942af536e4e9",
   "metadata": {},
   "source": []
  },
  {
   "cell_type": "code",
   "execution_count": 178,
   "id": "4ed2d54e-4a55-4960-8ebf-32e1f4da5fe5",
   "metadata": {},
   "outputs": [
    {
     "data": {
      "text/plain": [
       "array([1, 2, 3, 4, 5])"
      ]
     },
     "execution_count": 178,
     "metadata": {},
     "output_type": "execute_result"
    }
   ],
   "source": [
    "list_b=[1,2,3,4,5]\n",
    "arr_from_list= np.array(list_b)\n",
    "arr_from_list"
   ]
  },
  {
   "cell_type": "code",
   "execution_count": 193,
   "id": "004a5054-cdb9-499f-adc8-4ea6bcf98a72",
   "metadata": {},
   "outputs": [
    {
     "data": {
      "text/plain": [
       "array([11, 12, 13, 14, 15])"
      ]
     },
     "execution_count": 193,
     "metadata": {},
     "output_type": "execute_result"
    }
   ],
   "source": [
    "arr_addition = np.array([1, 2, 3, 4, 5]) + 10  # Adds 10 to each element of the array\n",
    "arr_addition"
   ]
  },
  {
   "cell_type": "code",
   "execution_count": 195,
   "id": "761b0516-6996-40df-bbed-1e65043fc78d",
   "metadata": {},
   "outputs": [
    {
     "data": {
      "text/plain": [
       "array([ 2,  4,  6,  8, 10])"
      ]
     },
     "execution_count": 195,
     "metadata": {},
     "output_type": "execute_result"
    }
   ],
   "source": [
    "arr_multiply = np.array([1,2,3,4,5]) * 2  # Multiplies each element of the array by 2\n",
    "arr_multiply"
   ]
  },
  {
   "cell_type": "code",
   "execution_count": 196,
   "id": "a916f3da-8bb2-404a-b182-ccf5bea66691",
   "metadata": {},
   "outputs": [
    {
     "data": {
      "text/plain": [
       "array([ 1,  4,  9, 16, 25])"
      ]
     },
     "execution_count": 196,
     "metadata": {},
     "output_type": "execute_result"
    }
   ],
   "source": [
    "arr_square = np.square([1,2,3,4,5])  # Calculates the element-wise square of the array\n",
    "arr_square"
   ]
  },
  {
   "cell_type": "code",
   "execution_count": null,
   "id": "2c07b898-66e0-4042-a767-89790e6b66c4",
   "metadata": {},
   "outputs": [],
   "source": []
  },
  {
   "cell_type": "markdown",
   "id": "e9ce0dbd-1a40-4c1c-8e78-25053a0cc0e0",
   "metadata": {},
   "source": [
    "### Random Values"
   ]
  },
  {
   "cell_type": "code",
   "execution_count": 199,
   "id": "43735c37-407c-464d-90b4-f0afe5b59de6",
   "metadata": {},
   "outputs": [
    {
     "data": {
      "text/plain": [
       "array([[0.62121736, 0.99369398, 0.36844029],\n",
       "       [0.09213634, 0.18188141, 0.92920632]])"
      ]
     },
     "execution_count": 199,
     "metadata": {},
     "output_type": "execute_result"
    }
   ],
   "source": [
    "random_arr = np.random.rand(2, 3)  # Generates random values in a 1 d array from a uniform distribution over [0, 1)\n",
    "random_arr"
   ]
  },
  {
   "cell_type": "code",
   "execution_count": 203,
   "id": "c05cfba8-fcc6-45d9-a787-0393c58ee8d8",
   "metadata": {},
   "outputs": [
    {
     "data": {
      "text/plain": [
       "array([[48, 53]])"
      ]
     },
     "execution_count": 203,
     "metadata": {},
     "output_type": "execute_result"
    }
   ],
   "source": [
    "random_integers = np.random.randint(-2, 100, size=(1, 2))  # Generates random integers between 1 and 31 in a 1d array\n",
    "random_integers"
   ]
  },
  {
   "cell_type": "markdown",
   "id": "173d0f0e-1e6c-4be3-902b-eed967bdde17",
   "metadata": {},
   "source": [
    "## Pandas "
   ]
  },
  {
   "cell_type": "markdown",
   "id": "ff97d912-d67d-4a4c-af35-dcfe232699e3",
   "metadata": {},
   "source": [
    "### What is Pandas?\n",
    "- Pandas is an open-source data manipulation and analysis library for Python.\n",
    "- It provides data structures like Series and DataFrame for working with structured data.\n"
   ]
  },
  {
   "cell_type": "code",
   "execution_count": 204,
   "id": "a316fb31-fcf9-4d7b-a88b-8421281d61b9",
   "metadata": {},
   "outputs": [
    {
     "data": {
      "text/plain": [
       "{'StudyHour': [2, 4, 1, 2.5, 4], 'Score': [85, 92, 78, 89, 95]}"
      ]
     },
     "execution_count": 204,
     "metadata": {},
     "output_type": "execute_result"
    }
   ],
   "source": [
    "import pandas as pd\n",
    "\n",
    "# Creating a Pandas DataFrame\n",
    "data = {\n",
    "    \n",
    "    'StudyHour': [2, 4, 1, 2.5, 4],\n",
    "    'Score': [85, 92, 78, 89, 95]\n",
    "}\n",
    "\n",
    "data "
   ]
  },
  {
   "cell_type": "code",
   "execution_count": 205,
   "id": "978830a6-d31f-4db9-9f43-bf47104ba4b9",
   "metadata": {},
   "outputs": [
    {
     "data": {
      "text/html": [
       "<div>\n",
       "<style scoped>\n",
       "    .dataframe tbody tr th:only-of-type {\n",
       "        vertical-align: middle;\n",
       "    }\n",
       "\n",
       "    .dataframe tbody tr th {\n",
       "        vertical-align: top;\n",
       "    }\n",
       "\n",
       "    .dataframe thead th {\n",
       "        text-align: right;\n",
       "    }\n",
       "</style>\n",
       "<table border=\"1\" class=\"dataframe\">\n",
       "  <thead>\n",
       "    <tr style=\"text-align: right;\">\n",
       "      <th></th>\n",
       "      <th>StudyHour</th>\n",
       "      <th>Score</th>\n",
       "    </tr>\n",
       "  </thead>\n",
       "  <tbody>\n",
       "    <tr>\n",
       "      <th>0</th>\n",
       "      <td>2.0</td>\n",
       "      <td>85</td>\n",
       "    </tr>\n",
       "    <tr>\n",
       "      <th>1</th>\n",
       "      <td>4.0</td>\n",
       "      <td>92</td>\n",
       "    </tr>\n",
       "    <tr>\n",
       "      <th>2</th>\n",
       "      <td>1.0</td>\n",
       "      <td>78</td>\n",
       "    </tr>\n",
       "    <tr>\n",
       "      <th>3</th>\n",
       "      <td>2.5</td>\n",
       "      <td>89</td>\n",
       "    </tr>\n",
       "    <tr>\n",
       "      <th>4</th>\n",
       "      <td>4.0</td>\n",
       "      <td>95</td>\n",
       "    </tr>\n",
       "  </tbody>\n",
       "</table>\n",
       "</div>"
      ],
      "text/plain": [
       "   StudyHour  Score\n",
       "0        2.0     85\n",
       "1        4.0     92\n",
       "2        1.0     78\n",
       "3        2.5     89\n",
       "4        4.0     95"
      ]
     },
     "execution_count": 205,
     "metadata": {},
     "output_type": "execute_result"
    }
   ],
   "source": [
    "\n",
    "df_exams = pd.DataFrame(data)  # Creates a Pandas DataFrame from a dictionary\n",
    "df_exams"
   ]
  },
  {
   "cell_type": "code",
   "execution_count": 206,
   "id": "448e1cf9-adca-4c7f-9709-1d17bda28cf8",
   "metadata": {},
   "outputs": [
    {
     "data": {
      "text/plain": [
       "array([1, 4, 2, 2, 2, 1, 5, 5, 3, 3, 2, 1, 5, 7, 7, 4, 5, 3, 1, 1, 4, 3,\n",
       "       1, 2, 2, 7, 4, 1, 4, 3, 7, 4, 7, 4, 4, 5, 1, 6, 1, 6, 2, 5, 2, 5,\n",
       "       2, 7, 4, 6, 5, 3])"
      ]
     },
     "execution_count": 206,
     "metadata": {},
     "output_type": "execute_result"
    }
   ],
   "source": [
    "study_hours=np.random.randint(1, 8, 50)\n",
    "study_hours"
   ]
  },
  {
   "cell_type": "code",
   "execution_count": 207,
   "id": "e3f871c5-2dcd-4716-bd91-d8950fb8ebcb",
   "metadata": {},
   "outputs": [
    {
     "data": {
      "text/plain": [
       "array([85, 51, 90, 61, 41, 45, 69, 76, 91, 62, 64, 87, 73, 75, 50, 75, 68,\n",
       "       57, 86, 61, 85, 75, 94, 57, 63, 82, 82, 91, 65, 44, 67, 71, 41, 80,\n",
       "       61, 70, 51, 94, 55, 99, 74, 88, 88, 92, 51, 70, 75, 95, 89, 51])"
      ]
     },
     "execution_count": 207,
     "metadata": {},
     "output_type": "execute_result"
    }
   ],
   "source": [
    "_scores=np.random.randint(40, 100, 50)\n",
    "_scores"
   ]
  },
  {
   "cell_type": "code",
   "execution_count": 208,
   "id": "f4006229-3470-46cf-8b58-7f5798f02fbf",
   "metadata": {},
   "outputs": [
    {
     "data": {
      "text/plain": [
       "{'StudyHour': array([1, 4, 2, 2, 2, 1, 5, 5, 3, 3, 2, 1, 5, 7, 7, 4, 5, 3, 1, 1, 4, 3,\n",
       "        1, 2, 2, 7, 4, 1, 4, 3, 7, 4, 7, 4, 4, 5, 1, 6, 1, 6, 2, 5, 2, 5,\n",
       "        2, 7, 4, 6, 5, 3]),\n",
       " 'Score': array([85, 51, 90, 61, 41, 45, 69, 76, 91, 62, 64, 87, 73, 75, 50, 75, 68,\n",
       "        57, 86, 61, 85, 75, 94, 57, 63, 82, 82, 91, 65, 44, 67, 71, 41, 80,\n",
       "        61, 70, 51, 94, 55, 99, 74, 88, 88, 92, 51, 70, 75, 95, 89, 51])}"
      ]
     },
     "execution_count": 208,
     "metadata": {},
     "output_type": "execute_result"
    }
   ],
   "source": [
    "data_exams = {\n",
    "    'StudyHour': study_hours,  # Random decimal study hours between 1 and 10\n",
    "    'Score':   _scores      # Random integer scores between 40 and 100\n",
    "}\n",
    "data_exams"
   ]
  },
  {
   "cell_type": "code",
   "execution_count": 213,
   "id": "c49cee06-bad5-42ed-b983-195c4354a254",
   "metadata": {},
   "outputs": [
    {
     "data": {
      "text/html": [
       "<div>\n",
       "<style scoped>\n",
       "    .dataframe tbody tr th:only-of-type {\n",
       "        vertical-align: middle;\n",
       "    }\n",
       "\n",
       "    .dataframe tbody tr th {\n",
       "        vertical-align: top;\n",
       "    }\n",
       "\n",
       "    .dataframe thead th {\n",
       "        text-align: right;\n",
       "    }\n",
       "</style>\n",
       "<table border=\"1\" class=\"dataframe\">\n",
       "  <thead>\n",
       "    <tr style=\"text-align: right;\">\n",
       "      <th></th>\n",
       "      <th>StudyHour</th>\n",
       "      <th>Score</th>\n",
       "    </tr>\n",
       "  </thead>\n",
       "  <tbody>\n",
       "    <tr>\n",
       "      <th>0</th>\n",
       "      <td>1</td>\n",
       "      <td>85</td>\n",
       "    </tr>\n",
       "    <tr>\n",
       "      <th>1</th>\n",
       "      <td>4</td>\n",
       "      <td>51</td>\n",
       "    </tr>\n",
       "    <tr>\n",
       "      <th>2</th>\n",
       "      <td>2</td>\n",
       "      <td>90</td>\n",
       "    </tr>\n",
       "    <tr>\n",
       "      <th>3</th>\n",
       "      <td>2</td>\n",
       "      <td>61</td>\n",
       "    </tr>\n",
       "    <tr>\n",
       "      <th>4</th>\n",
       "      <td>2</td>\n",
       "      <td>41</td>\n",
       "    </tr>\n",
       "    <tr>\n",
       "      <th>5</th>\n",
       "      <td>1</td>\n",
       "      <td>45</td>\n",
       "    </tr>\n",
       "    <tr>\n",
       "      <th>6</th>\n",
       "      <td>5</td>\n",
       "      <td>69</td>\n",
       "    </tr>\n",
       "    <tr>\n",
       "      <th>7</th>\n",
       "      <td>5</td>\n",
       "      <td>76</td>\n",
       "    </tr>\n",
       "    <tr>\n",
       "      <th>8</th>\n",
       "      <td>3</td>\n",
       "      <td>91</td>\n",
       "    </tr>\n",
       "    <tr>\n",
       "      <th>9</th>\n",
       "      <td>3</td>\n",
       "      <td>62</td>\n",
       "    </tr>\n",
       "  </tbody>\n",
       "</table>\n",
       "</div>"
      ],
      "text/plain": [
       "   StudyHour  Score\n",
       "0          1     85\n",
       "1          4     51\n",
       "2          2     90\n",
       "3          2     61\n",
       "4          2     41\n",
       "5          1     45\n",
       "6          5     69\n",
       "7          5     76\n",
       "8          3     91\n",
       "9          3     62"
      ]
     },
     "execution_count": 213,
     "metadata": {},
     "output_type": "execute_result"
    }
   ],
   "source": [
    "\n",
    "df = pd.DataFrame(data_exams)\n",
    "df.head(10)"
   ]
  },
  {
   "cell_type": "markdown",
   "id": "794e5424-d58d-4dfa-a4c6-a2bb81e24f34",
   "metadata": {},
   "source": [
    "### Data Exploration\n"
   ]
  },
  {
   "cell_type": "code",
   "execution_count": 214,
   "id": "f6f732d8-6687-4846-9630-262162d73696",
   "metadata": {},
   "outputs": [
    {
     "data": {
      "text/html": [
       "<div>\n",
       "<style scoped>\n",
       "    .dataframe tbody tr th:only-of-type {\n",
       "        vertical-align: middle;\n",
       "    }\n",
       "\n",
       "    .dataframe tbody tr th {\n",
       "        vertical-align: top;\n",
       "    }\n",
       "\n",
       "    .dataframe thead th {\n",
       "        text-align: right;\n",
       "    }\n",
       "</style>\n",
       "<table border=\"1\" class=\"dataframe\">\n",
       "  <thead>\n",
       "    <tr style=\"text-align: right;\">\n",
       "      <th></th>\n",
       "      <th>StudyHour</th>\n",
       "      <th>Score</th>\n",
       "    </tr>\n",
       "  </thead>\n",
       "  <tbody>\n",
       "    <tr>\n",
       "      <th>0</th>\n",
       "      <td>1</td>\n",
       "      <td>85</td>\n",
       "    </tr>\n",
       "    <tr>\n",
       "      <th>1</th>\n",
       "      <td>4</td>\n",
       "      <td>51</td>\n",
       "    </tr>\n",
       "    <tr>\n",
       "      <th>2</th>\n",
       "      <td>2</td>\n",
       "      <td>90</td>\n",
       "    </tr>\n",
       "    <tr>\n",
       "      <th>3</th>\n",
       "      <td>2</td>\n",
       "      <td>61</td>\n",
       "    </tr>\n",
       "    <tr>\n",
       "      <th>4</th>\n",
       "      <td>2</td>\n",
       "      <td>41</td>\n",
       "    </tr>\n",
       "  </tbody>\n",
       "</table>\n",
       "</div>"
      ],
      "text/plain": [
       "   StudyHour  Score\n",
       "0          1     85\n",
       "1          4     51\n",
       "2          2     90\n",
       "3          2     61\n",
       "4          2     41"
      ]
     },
     "execution_count": 214,
     "metadata": {},
     "output_type": "execute_result"
    }
   ],
   "source": [
    "df_head = df.head()  # Returns the first 5 rows of the DataFrame\n",
    "df_head"
   ]
  },
  {
   "cell_type": "code",
   "execution_count": 215,
   "id": "d3bda49f-54fb-4031-8473-9d241caf95fb",
   "metadata": {},
   "outputs": [
    {
     "data": {
      "text/html": [
       "<div>\n",
       "<style scoped>\n",
       "    .dataframe tbody tr th:only-of-type {\n",
       "        vertical-align: middle;\n",
       "    }\n",
       "\n",
       "    .dataframe tbody tr th {\n",
       "        vertical-align: top;\n",
       "    }\n",
       "\n",
       "    .dataframe thead th {\n",
       "        text-align: right;\n",
       "    }\n",
       "</style>\n",
       "<table border=\"1\" class=\"dataframe\">\n",
       "  <thead>\n",
       "    <tr style=\"text-align: right;\">\n",
       "      <th></th>\n",
       "      <th>StudyHour</th>\n",
       "      <th>Score</th>\n",
       "    </tr>\n",
       "  </thead>\n",
       "  <tbody>\n",
       "    <tr>\n",
       "      <th>count</th>\n",
       "      <td>50.000000</td>\n",
       "      <td>50.000000</td>\n",
       "    </tr>\n",
       "    <tr>\n",
       "      <th>mean</th>\n",
       "      <td>3.620000</td>\n",
       "      <td>71.340000</td>\n",
       "    </tr>\n",
       "    <tr>\n",
       "      <th>std</th>\n",
       "      <td>1.968009</td>\n",
       "      <td>16.079661</td>\n",
       "    </tr>\n",
       "    <tr>\n",
       "      <th>min</th>\n",
       "      <td>1.000000</td>\n",
       "      <td>41.000000</td>\n",
       "    </tr>\n",
       "    <tr>\n",
       "      <th>25%</th>\n",
       "      <td>2.000000</td>\n",
       "      <td>61.000000</td>\n",
       "    </tr>\n",
       "    <tr>\n",
       "      <th>50%</th>\n",
       "      <td>4.000000</td>\n",
       "      <td>72.000000</td>\n",
       "    </tr>\n",
       "    <tr>\n",
       "      <th>75%</th>\n",
       "      <td>5.000000</td>\n",
       "      <td>85.750000</td>\n",
       "    </tr>\n",
       "    <tr>\n",
       "      <th>max</th>\n",
       "      <td>7.000000</td>\n",
       "      <td>99.000000</td>\n",
       "    </tr>\n",
       "  </tbody>\n",
       "</table>\n",
       "</div>"
      ],
      "text/plain": [
       "       StudyHour      Score\n",
       "count  50.000000  50.000000\n",
       "mean    3.620000  71.340000\n",
       "std     1.968009  16.079661\n",
       "min     1.000000  41.000000\n",
       "25%     2.000000  61.000000\n",
       "50%     4.000000  72.000000\n",
       "75%     5.000000  85.750000\n",
       "max     7.000000  99.000000"
      ]
     },
     "execution_count": 215,
     "metadata": {},
     "output_type": "execute_result"
    }
   ],
   "source": [
    "df_describe = df.describe()  # Generates descriptive statistics of the DataFrame\n",
    "df_describe"
   ]
  },
  {
   "cell_type": "code",
   "execution_count": 220,
   "id": "d545c46a-fab9-46d7-b263-5fcc7772b808",
   "metadata": {},
   "outputs": [
    {
     "data": {
      "text/plain": [
       "32"
      ]
     },
     "execution_count": 220,
     "metadata": {},
     "output_type": "execute_result"
    }
   ],
   "source": [
    "selected_rows = df.loc[df['StudyHour'] > 2]\n",
    "selected_rows.value_counts().sum()"
   ]
  },
  {
   "cell_type": "code",
   "execution_count": null,
   "id": "e5bd349e-1d61-48c0-9a6c-e9a947c40638",
   "metadata": {},
   "outputs": [],
   "source": []
  },
  {
   "cell_type": "code",
   "execution_count": 221,
   "id": "328e0a5a-6d1b-4fc2-81cc-a2468d48c875",
   "metadata": {},
   "outputs": [
    {
     "data": {
      "text/html": [
       "<div>\n",
       "<style scoped>\n",
       "    .dataframe tbody tr th:only-of-type {\n",
       "        vertical-align: middle;\n",
       "    }\n",
       "\n",
       "    .dataframe tbody tr th {\n",
       "        vertical-align: top;\n",
       "    }\n",
       "\n",
       "    .dataframe thead th {\n",
       "        text-align: right;\n",
       "    }\n",
       "</style>\n",
       "<table border=\"1\" class=\"dataframe\">\n",
       "  <thead>\n",
       "    <tr style=\"text-align: right;\">\n",
       "      <th></th>\n",
       "      <th>StudyHour</th>\n",
       "      <th>Score</th>\n",
       "    </tr>\n",
       "  </thead>\n",
       "  <tbody>\n",
       "    <tr>\n",
       "      <th>39</th>\n",
       "      <td>6</td>\n",
       "      <td>99</td>\n",
       "    </tr>\n",
       "    <tr>\n",
       "      <th>47</th>\n",
       "      <td>6</td>\n",
       "      <td>95</td>\n",
       "    </tr>\n",
       "    <tr>\n",
       "      <th>22</th>\n",
       "      <td>1</td>\n",
       "      <td>94</td>\n",
       "    </tr>\n",
       "    <tr>\n",
       "      <th>37</th>\n",
       "      <td>6</td>\n",
       "      <td>94</td>\n",
       "    </tr>\n",
       "    <tr>\n",
       "      <th>43</th>\n",
       "      <td>5</td>\n",
       "      <td>92</td>\n",
       "    </tr>\n",
       "  </tbody>\n",
       "</table>\n",
       "</div>"
      ],
      "text/plain": [
       "    StudyHour  Score\n",
       "39          6     99\n",
       "47          6     95\n",
       "22          1     94\n",
       "37          6     94\n",
       "43          5     92"
      ]
     },
     "execution_count": 221,
     "metadata": {},
     "output_type": "execute_result"
    }
   ],
   "source": [
    "top_students = df.nlargest(5, 'Score')\n",
    "(top_students)\n"
   ]
  },
  {
   "cell_type": "code",
   "execution_count": 224,
   "id": "988825e7-a4d6-4e3c-a106-1bdbc852e2c3",
   "metadata": {},
   "outputs": [
    {
     "data": {
      "text/plain": [
       "<Axes: title={'center': 'Scatter Plot of Study Hours vs Score'}, xlabel='StudyHour', ylabel='Score'>"
      ]
     },
     "execution_count": 224,
     "metadata": {},
     "output_type": "execute_result"
    },
    {
     "data": {
      "image/png": "[encoded data removed]",
      "text/plain": [
       "<Figure size 640x480 with 1 Axes>"
      ]
     },
     "metadata": {},
     "output_type": "display_data"
    }
   ],
   "source": [
    "# Scatter Plot\n",
    "df.plot.scatter(x='StudyHour', y='Score', color='blue', marker='x', title='Scatter Plot of Study Hours vs Score')\n"
   ]
  },
  {
   "cell_type": "code",
   "execution_count": 225,
   "id": "b38af7c7-6832-4fad-838e-1a398a4094b9",
   "metadata": {},
   "outputs": [
    {
     "data": {
      "text/plain": [
       "7"
      ]
     },
     "execution_count": 225,
     "metadata": {},
     "output_type": "execute_result"
    }
   ],
   "source": [
    "study_hour_column.max()"
   ]
  },
  {
   "cell_type": "code",
   "execution_count": 226,
   "id": "5073553f-f1fa-4dfa-8469-aae99d372565",
   "metadata": {},
   "outputs": [
    {
     "data": {
      "text/plain": [
       "1"
      ]
     },
     "execution_count": 226,
     "metadata": {},
     "output_type": "execute_result"
    }
   ],
   "source": [
    "study_hour_column.min()"
   ]
  },
  {
   "cell_type": "code",
   "execution_count": 227,
   "id": "2636f72a-e9f1-4409-b592-1a9cbbc20a99",
   "metadata": {},
   "outputs": [
    {
     "name": "stdout",
     "output_type": "stream",
     "text": [
      "Range of StudyHour column: 6\n"
     ]
    },
    {
     "data": {
      "text/plain": [
       "7"
      ]
     },
     "execution_count": 227,
     "metadata": {},
     "output_type": "execute_result"
    }
   ],
   "source": [
    "# Assuming df is your DataFrame\n",
    "study_hour_column = df['StudyHour']\n",
    "\n",
    "# Calculate the range of the 'StudyHour' column\n",
    "column_range = study_hour_column.max() - study_hour_column.min()\n",
    "\n",
    "print(\"Range of StudyHour column:\", column_range)\n",
    "\n",
    "study_hour_column.max()"
   ]
  },
  {
   "cell_type": "code",
   "execution_count": 229,
   "id": "19e8c8bf-e62f-4f84-ad9d-37e45f5e2169",
   "metadata": {},
   "outputs": [
    {
     "data": {
      "text/plain": [
       "<Axes: title={'center': 'Histogram of Study Hours'}, ylabel='Frequency'>"
      ]
     },
     "execution_count": 229,
     "metadata": {},
     "output_type": "execute_result"
    },
    {
     "data": {
      "image/png": "[encoded data removed]",
      "text/plain": [
       "<Figure size 640x480 with 1 Axes>"
      ]
     },
     "metadata": {},
     "output_type": "display_data"
    }
   ],
   "source": [
    "df['StudyHour'].plot(kind='hist', bins=15, color='green', title='Histogram of Study Hours')\n"
   ]
  },
  {
   "cell_type": "markdown",
   "id": "8e35174d-f417-4a52-90c5-e0b75346d2ac",
   "metadata": {},
   "source": [
    "with a range of 3 (from 1 to 4) and 15 bins, each bin represents a range of 3 / 15 = 0.2. The x-axis labels correspond to the edges of these bins:\n",
    "\n",
    "- Bin 1: 1.0 to 1.2\n",
    "- Bin 2: 1.2 to 1.4\n",
    "- Bin 3: 1.4 to 1.6\n",
    "- Bin 4: 1.6 to 1.8\n",
    "- Bin 5: 1.8 to 2.0\n",
    "- Bin 6: 2.0 to 2.2\n",
    "- ...\n",
    "- Bin 15: 3.8 to 4.0"
   ]
  },
  {
   "cell_type": "code",
   "execution_count": 231,
   "id": "a76fb3e7-79a4-4215-8f68-799cfe08dc92",
   "metadata": {},
   "outputs": [
    {
     "name": "stdout",
     "output_type": "stream",
     "text": [
      "Students who studied more than 5 hours:\n"
     ]
    },
    {
     "data": {
      "text/html": [
       "<div>\n",
       "<style scoped>\n",
       "    .dataframe tbody tr th:only-of-type {\n",
       "        vertical-align: middle;\n",
       "    }\n",
       "\n",
       "    .dataframe tbody tr th {\n",
       "        vertical-align: top;\n",
       "    }\n",
       "\n",
       "    .dataframe thead th {\n",
       "        text-align: right;\n",
       "    }\n",
       "</style>\n",
       "<table border=\"1\" class=\"dataframe\">\n",
       "  <thead>\n",
       "    <tr style=\"text-align: right;\">\n",
       "      <th></th>\n",
       "      <th>StudyHour</th>\n",
       "      <th>Score</th>\n",
       "    </tr>\n",
       "  </thead>\n",
       "  <tbody>\n",
       "    <tr>\n",
       "      <th>13</th>\n",
       "      <td>7</td>\n",
       "      <td>75</td>\n",
       "    </tr>\n",
       "    <tr>\n",
       "      <th>14</th>\n",
       "      <td>7</td>\n",
       "      <td>50</td>\n",
       "    </tr>\n",
       "    <tr>\n",
       "      <th>25</th>\n",
       "      <td>7</td>\n",
       "      <td>82</td>\n",
       "    </tr>\n",
       "    <tr>\n",
       "      <th>30</th>\n",
       "      <td>7</td>\n",
       "      <td>67</td>\n",
       "    </tr>\n",
       "    <tr>\n",
       "      <th>32</th>\n",
       "      <td>7</td>\n",
       "      <td>41</td>\n",
       "    </tr>\n",
       "  </tbody>\n",
       "</table>\n",
       "</div>"
      ],
      "text/plain": [
       "    StudyHour  Score\n",
       "13          7     75\n",
       "14          7     50\n",
       "25          7     82\n",
       "30          7     67\n",
       "32          7     41"
      ]
     },
     "execution_count": 231,
     "metadata": {},
     "output_type": "execute_result"
    }
   ],
   "source": [
    "# Filtering Data\n",
    "study_more_than_5_hours = df[df['StudyHour'] > 5]\n",
    "print(\"Students who studied more than 5 hours:\")\n",
    "(study_more_than_5_hours.head())\n"
   ]
  },
  {
   "cell_type": "code",
   "execution_count": 232,
   "id": "3d9cf0d6-b6c0-4e5f-9875-21c62c898a61",
   "metadata": {},
   "outputs": [
    {
     "name": "stdout",
     "output_type": "stream",
     "text": [
      "Ranked Data based on Score:\n"
     ]
    },
    {
     "data": {
      "text/html": [
       "<div>\n",
       "<style scoped>\n",
       "    .dataframe tbody tr th:only-of-type {\n",
       "        vertical-align: middle;\n",
       "    }\n",
       "\n",
       "    .dataframe tbody tr th {\n",
       "        vertical-align: top;\n",
       "    }\n",
       "\n",
       "    .dataframe thead th {\n",
       "        text-align: right;\n",
       "    }\n",
       "</style>\n",
       "<table border=\"1\" class=\"dataframe\">\n",
       "  <thead>\n",
       "    <tr style=\"text-align: right;\">\n",
       "      <th></th>\n",
       "      <th>StudyHour</th>\n",
       "      <th>Score</th>\n",
       "      <th>ScoreRank</th>\n",
       "    </tr>\n",
       "  </thead>\n",
       "  <tbody>\n",
       "    <tr>\n",
       "      <th>0</th>\n",
       "      <td>1</td>\n",
       "      <td>85</td>\n",
       "      <td>14.5</td>\n",
       "    </tr>\n",
       "    <tr>\n",
       "      <th>1</th>\n",
       "      <td>4</td>\n",
       "      <td>51</td>\n",
       "      <td>43.5</td>\n",
       "    </tr>\n",
       "    <tr>\n",
       "      <th>2</th>\n",
       "      <td>2</td>\n",
       "      <td>90</td>\n",
       "      <td>8.0</td>\n",
       "    </tr>\n",
       "    <tr>\n",
       "      <th>3</th>\n",
       "      <td>2</td>\n",
       "      <td>61</td>\n",
       "      <td>37.0</td>\n",
       "    </tr>\n",
       "    <tr>\n",
       "      <th>4</th>\n",
       "      <td>2</td>\n",
       "      <td>41</td>\n",
       "      <td>49.5</td>\n",
       "    </tr>\n",
       "  </tbody>\n",
       "</table>\n",
       "</div>"
      ],
      "text/plain": [
       "   StudyHour  Score  ScoreRank\n",
       "0          1     85       14.5\n",
       "1          4     51       43.5\n",
       "2          2     90        8.0\n",
       "3          2     61       37.0\n",
       "4          2     41       49.5"
      ]
     },
     "execution_count": 232,
     "metadata": {},
     "output_type": "execute_result"
    }
   ],
   "source": [
    "# Ranking\n",
    "df['ScoreRank'] = df['Score'].rank(ascending=False)\n",
    "print(\"Ranked Data based on Score:\")\n",
    "(df.head())\n"
   ]
  },
  {
   "cell_type": "markdown",
   "id": "1aa4fe49-de55-4049-b0d5-0b34e50ea1ab",
   "metadata": {},
   "source": [
    "performing ranking on a DataFrame based on the 'Score' column and creating a new column 'Score Rank' to store the rank of each entry."
   ]
  },
  {
   "cell_type": "markdown",
   "id": "f321d328-b0bb-4d0e-8134-9228725a1f80",
   "metadata": {},
   "source": [
    "- df['Score'].rank(ascending=False): This part of the code ranks the values in the 'Score' column in descending order (ascending=False). The rank method assigns ranks to each value, where the highest value gets the rank of 1, the second-highest gets the rank of 2, and so on. Ties are handled by assigning the average rank to tied values.\n",
    "\n",
    "- df['Score Rank'] = ...: This part creates a new column in the DataFrame called 'Score Rank' and assigns the calculated ranks to this column. Each row in the 'Score Rank' column corresponds to the rank of the corresponding 'Score' value."
   ]
  },
  {
   "cell_type": "code",
   "execution_count": 233,
   "id": "3768ded4-9e69-42c5-ad8a-a9348ce30c2d",
   "metadata": {},
   "outputs": [
    {
     "data": {
      "text/html": [
       "<div>\n",
       "<style scoped>\n",
       "    .dataframe tbody tr th:only-of-type {\n",
       "        vertical-align: middle;\n",
       "    }\n",
       "\n",
       "    .dataframe tbody tr th {\n",
       "        vertical-align: top;\n",
       "    }\n",
       "\n",
       "    .dataframe thead th {\n",
       "        text-align: right;\n",
       "    }\n",
       "</style>\n",
       "<table border=\"1\" class=\"dataframe\">\n",
       "  <thead>\n",
       "    <tr style=\"text-align: right;\">\n",
       "      <th></th>\n",
       "      <th>StudyHour</th>\n",
       "      <th>Score</th>\n",
       "      <th>ScoreRank</th>\n",
       "    </tr>\n",
       "  </thead>\n",
       "  <tbody>\n",
       "    <tr>\n",
       "      <th>39</th>\n",
       "      <td>6</td>\n",
       "      <td>99</td>\n",
       "      <td>1.0</td>\n",
       "    </tr>\n",
       "    <tr>\n",
       "      <th>47</th>\n",
       "      <td>6</td>\n",
       "      <td>95</td>\n",
       "      <td>2.0</td>\n",
       "    </tr>\n",
       "    <tr>\n",
       "      <th>22</th>\n",
       "      <td>1</td>\n",
       "      <td>94</td>\n",
       "      <td>3.5</td>\n",
       "    </tr>\n",
       "    <tr>\n",
       "      <th>37</th>\n",
       "      <td>6</td>\n",
       "      <td>94</td>\n",
       "      <td>3.5</td>\n",
       "    </tr>\n",
       "    <tr>\n",
       "      <th>43</th>\n",
       "      <td>5</td>\n",
       "      <td>92</td>\n",
       "      <td>5.0</td>\n",
       "    </tr>\n",
       "  </tbody>\n",
       "</table>\n",
       "</div>"
      ],
      "text/plain": [
       "    StudyHour  Score  ScoreRank\n",
       "39          6     99        1.0\n",
       "47          6     95        2.0\n",
       "22          1     94        3.5\n",
       "37          6     94        3.5\n",
       "43          5     92        5.0"
      ]
     },
     "execution_count": 233,
     "metadata": {},
     "output_type": "execute_result"
    }
   ],
   "source": [
    "df_sorted = df.sort_values(by='ScoreRank', ascending=True)\n",
    "df_sorted.head()"
   ]
  },
  {
   "cell_type": "markdown",
   "id": "bee551f0-4ccd-4405-9994-4d67a1ff1b7c",
   "metadata": {},
   "source": [
    "# \n",
    "\n",
    "\n"
   ]
  },
  {
   "cell_type": "markdown",
   "id": "79f61dea-521b-44ae-8f5a-606624d24a3c",
   "metadata": {},
   "source": [
    "np.random.choice is a NumPy function that allows you to randomly sample values from a given array-like object. It can be used to generate random choices from a specified set of elements. Here's an explanation of its parameters and how it works:\n",
    "\n",
    "This line of code randomly assigns 'Present' or 'Absent' values to each row in the 'Attendance' column for the entire DataFrame. The size=len(df) parameter ensures that a choice is made for each row in the DataFrame. This simulates random attendance data for the purpose of generating insights in our example.\n",
    "\n",
    "\n",
    "\n",
    "\n"
   ]
  },
  {
   "cell_type": "code",
   "execution_count": 234,
   "id": "44bb80aa-4f50-4224-95b1-f586f440572d",
   "metadata": {},
   "outputs": [
    {
     "data": {
      "text/html": [
       "<div>\n",
       "<style scoped>\n",
       "    .dataframe tbody tr th:only-of-type {\n",
       "        vertical-align: middle;\n",
       "    }\n",
       "\n",
       "    .dataframe tbody tr th {\n",
       "        vertical-align: top;\n",
       "    }\n",
       "\n",
       "    .dataframe thead th {\n",
       "        text-align: right;\n",
       "    }\n",
       "</style>\n",
       "<table border=\"1\" class=\"dataframe\">\n",
       "  <thead>\n",
       "    <tr style=\"text-align: right;\">\n",
       "      <th></th>\n",
       "      <th>StudyHour</th>\n",
       "      <th>Score</th>\n",
       "      <th>ScoreRank</th>\n",
       "      <th>Attendance</th>\n",
       "    </tr>\n",
       "  </thead>\n",
       "  <tbody>\n",
       "    <tr>\n",
       "      <th>0</th>\n",
       "      <td>1</td>\n",
       "      <td>85</td>\n",
       "      <td>14.5</td>\n",
       "      <td>Present</td>\n",
       "    </tr>\n",
       "    <tr>\n",
       "      <th>1</th>\n",
       "      <td>4</td>\n",
       "      <td>51</td>\n",
       "      <td>43.5</td>\n",
       "      <td>Present</td>\n",
       "    </tr>\n",
       "    <tr>\n",
       "      <th>2</th>\n",
       "      <td>2</td>\n",
       "      <td>90</td>\n",
       "      <td>8.0</td>\n",
       "      <td>Present</td>\n",
       "    </tr>\n",
       "    <tr>\n",
       "      <th>3</th>\n",
       "      <td>2</td>\n",
       "      <td>61</td>\n",
       "      <td>37.0</td>\n",
       "      <td>Absent</td>\n",
       "    </tr>\n",
       "    <tr>\n",
       "      <th>4</th>\n",
       "      <td>2</td>\n",
       "      <td>41</td>\n",
       "      <td>49.5</td>\n",
       "      <td>Present</td>\n",
       "    </tr>\n",
       "  </tbody>\n",
       "</table>\n",
       "</div>"
      ],
      "text/plain": [
       "   StudyHour  Score  ScoreRank Attendance\n",
       "0          1     85       14.5    Present\n",
       "1          4     51       43.5    Present\n",
       "2          2     90        8.0    Present\n",
       "3          2     61       37.0     Absent\n",
       "4          2     41       49.5    Present"
      ]
     },
     "execution_count": 234,
     "metadata": {},
     "output_type": "execute_result"
    }
   ],
   "source": [
    "# Adding a new 'Attendance' column\n",
    "df['Attendance'] = np.random.choice(['Present', 'Absent'], size=len(df))\n",
    "(df.head())\n"
   ]
  },
  {
   "cell_type": "code",
   "execution_count": 235,
   "id": "6b69a18c-bde0-45df-9b8e-27f8cca76969",
   "metadata": {},
   "outputs": [
    {
     "data": {
      "text/html": [
       "<div>\n",
       "<style scoped>\n",
       "    .dataframe tbody tr th:only-of-type {\n",
       "        vertical-align: middle;\n",
       "    }\n",
       "\n",
       "    .dataframe tbody tr th {\n",
       "        vertical-align: top;\n",
       "    }\n",
       "\n",
       "    .dataframe thead th {\n",
       "        text-align: right;\n",
       "    }\n",
       "</style>\n",
       "<table border=\"1\" class=\"dataframe\">\n",
       "  <thead>\n",
       "    <tr style=\"text-align: right;\">\n",
       "      <th></th>\n",
       "      <th>Attendance</th>\n",
       "      <th>Score</th>\n",
       "    </tr>\n",
       "  </thead>\n",
       "  <tbody>\n",
       "    <tr>\n",
       "      <th>0</th>\n",
       "      <td>Present</td>\n",
       "      <td>85</td>\n",
       "    </tr>\n",
       "    <tr>\n",
       "      <th>1</th>\n",
       "      <td>Present</td>\n",
       "      <td>51</td>\n",
       "    </tr>\n",
       "    <tr>\n",
       "      <th>2</th>\n",
       "      <td>Present</td>\n",
       "      <td>90</td>\n",
       "    </tr>\n",
       "    <tr>\n",
       "      <th>3</th>\n",
       "      <td>Absent</td>\n",
       "      <td>61</td>\n",
       "    </tr>\n",
       "    <tr>\n",
       "      <th>4</th>\n",
       "      <td>Present</td>\n",
       "      <td>41</td>\n",
       "    </tr>\n",
       "  </tbody>\n",
       "</table>\n",
       "</div>"
      ],
      "text/plain": [
       "  Attendance  Score\n",
       "0    Present     85\n",
       "1    Present     51\n",
       "2    Present     90\n",
       "3     Absent     61\n",
       "4    Present     41"
      ]
     },
     "execution_count": 235,
     "metadata": {},
     "output_type": "execute_result"
    }
   ],
   "source": [
    "selected_columns = df[['Attendance', 'Score']]\n",
    "selected_columns.head()"
   ]
  },
  {
   "cell_type": "code",
   "execution_count": 236,
   "id": "7b4bf14f-2ced-40b0-b18e-12160bab324f",
   "metadata": {},
   "outputs": [
    {
     "name": "stdout",
     "output_type": "stream",
     "text": [
      "\n",
      "Count of Students Present/Absent:\n",
      "Attendance\n",
      "Present    30\n",
      "Absent     20\n",
      "Name: count, dtype: int64\n"
     ]
    }
   ],
   "source": [
    "# Insight 1: Count of Students Present/Absent\n",
    "attendance_counts = df['Attendance'].value_counts()\n",
    "print(\"\\nCount of Students Present/Absent:\")\n",
    "print(attendance_counts)\n"
   ]
  },
  {
   "cell_type": "code",
   "execution_count": 237,
   "id": "3a94c83d-b6ba-4293-a4ec-528d521682e3",
   "metadata": {},
   "outputs": [
    {
     "data": {
      "image/png": "[encoded data removed]",
      "text/plain": [
       "<Figure size 640x480 with 1 Axes>"
      ]
     },
     "metadata": {},
     "output_type": "display_data"
    }
   ],
   "source": [
    "import matplotlib.pyplot as plt\n",
    "df['Attendance'].value_counts().plot(kind='bar', color='skyblue')\n",
    "plt.title('Attendance Distribution')\n",
    "plt.xlabel('Attendance')\n",
    "plt.ylabel('Count')\n",
    "plt.show()\n"
   ]
  },
  {
   "cell_type": "code",
   "execution_count": 238,
   "id": "f545a12a-f372-4275-9472-8f12aacc6144",
   "metadata": {},
   "outputs": [
    {
     "name": "stdout",
     "output_type": "stream",
     "text": [
      "\n",
      "Average Score by Attendance:\n",
      "  Attendance      Score\n",
      "0     Absent  71.900000\n",
      "1    Present  70.966667\n"
     ]
    }
   ],
   "source": [
    "# Insight 2: Average Score by Attendance\n",
    "average_score_by_attendance = df.groupby('Attendance')['Score'].mean().reset_index()\n",
    "print(\"\\nAverage Score by Attendance:\")\n",
    "print(average_score_by_attendance)\n"
   ]
  },
  {
   "cell_type": "code",
   "execution_count": 244,
   "id": "d12f5f33-e6c8-4a06-a7b5-2ab9a67567f8",
   "metadata": {},
   "outputs": [
    {
     "name": "stdout",
     "output_type": "stream",
     "text": [
      "\n",
      "Students with High Scores and Present:\n"
     ]
    },
    {
     "data": {
      "text/plain": [
       "11"
      ]
     },
     "execution_count": 244,
     "metadata": {},
     "output_type": "execute_result"
    }
   ],
   "source": [
    "# Insight 3: Students with High Scores and Present\n",
    "high_score_present = df[(df['Score'] >= 80) & (df['Attendance'] == 'Present')]\n",
    "print(\"\\nStudents with High Scores and Present:\")\n",
    "high_score_present['Attendance'].value_counts().sum()\n"
   ]
  }
 ],
 "metadata": {
  "kernelspec": {
   "display_name": "Python 3 (ipykernel)",
   "language": "python",
   "name": "python3"
  },
  "language_info": {
   "codemirror_mode": {
    "name": "ipython",
    "version": 3
   },
   "file_extension": ".py",
   "mimetype": "text/x-python",
   "name": "python",
   "nbconvert_exporter": "python",
   "pygments_lexer": "ipython3",
   "version": "3.11.1"
  }
 },
 "nbformat": 4,
 "nbformat_minor": 5
}
